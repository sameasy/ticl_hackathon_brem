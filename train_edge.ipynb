{
 "cells": [
  {
   "cell_type": "code",
   "execution_count": 1,
   "metadata": {},
   "outputs": [
    {
     "data": {
      "text/html": [
       "<style>.container { width:98% !important; }</style>"
      ],
      "text/plain": [
       "<IPython.core.display.HTML object>"
      ]
     },
     "metadata": {},
     "output_type": "display_data"
    }
   ],
   "source": [
    "from IPython.core.display import display, HTML\n",
    "display(HTML(\"<style>.container { width:98% !important; }</style>\"))"
   ]
  },
  {
   "cell_type": "code",
   "execution_count": 2,
   "metadata": {},
   "outputs": [],
   "source": [
    "import torch\n",
    "import torch_geometric\n",
    "import torch\n",
    "import os\n",
    "import os.path as osp\n",
    "import numpy as np\n",
    "from tqdm import tqdm as tqdm\n",
    "torch.manual_seed(1)\n",
    "import matplotlib.pyplot as plt\n",
    "%matplotlib inline"
   ]
  },
  {
   "cell_type": "code",
   "execution_count": 3,
   "metadata": {},
   "outputs": [
    {
     "name": "stderr",
     "output_type": "stream",
     "text": [
      "100%|██████████| 58917/58917 [00:18<00:00, 3115.89it/s]"
     ]
    },
    {
     "name": "stdout",
     "output_type": "stream",
     "text": [
      "tensor([[ 6.1590e+01, -5.8120e+00,  3.2511e+02,  2.0705e+00,  3.5077e-01,\n",
      "          1.8955e-03,  9.3646e-01,  1.7226e-01],\n",
      "        [ 5.4722e+01, -9.9162e+00,  3.2988e+02,  7.7504e+00,  8.3204e-02,\n",
      "         -7.8913e-02,  9.9340e-01,  9.4590e-02],\n",
      "        [ 5.4792e+01, -1.5136e+01,  3.3019e+02,  1.5054e+01,  1.3933e-01,\n",
      "         -5.3625e-02,  9.8879e-01,  2.5845e-02],\n",
      "        [ 5.7434e+01, -1.7210e+01,  3.2712e+02,  3.0184e+00, -4.5120e-02,\n",
      "         -2.9879e-01,  9.5325e-01,  3.3228e-01],\n",
      "        [ 5.8495e+01, -1.4197e+01,  3.2995e+02,  7.7778e-01,  1.5388e-01,\n",
      "         -4.1134e-02,  9.8723e-01,  2.0848e-02],\n",
      "        [ 6.0202e+01, -1.1856e+01,  3.3360e+02,  5.2617e+00,  1.8776e-01,\n",
      "         -1.2751e-01,  9.7390e-01,  9.3655e-02],\n",
      "        [ 6.1393e+01, -7.7536e+00,  3.3109e+02,  3.0767e+00,  2.7094e-01,\n",
      "          6.8845e-02,  9.6013e-01,  1.2980e-01],\n",
      "        [ 5.3352e+01, -1.9245e+01,  3.3362e+02,  2.4999e+00,  1.4660e-01,\n",
      "         -9.3981e-02,  9.8472e-01,  3.8743e-02],\n",
      "        [ 5.8178e+01, -2.3797e+01,  3.6372e+02,  2.0045e+00,  1.3676e-01,\n",
      "         -1.9988e-01,  9.7023e-01,  1.3795e-01],\n",
      "        [ 6.2374e+01, -1.3023e+01,  3.6411e+02,  1.4862e+00,  3.0797e-01,\n",
      "         -1.9231e-01,  9.3176e-01,  2.1698e-01]])\n",
      "20920\n"
     ]
    },
    {
     "name": "stderr",
     "output_type": "stream",
     "text": [
      "\n"
     ]
    }
   ],
   "source": [
    "# import electron datasets\n",
    "import glob\n",
    "raw_dir=\"/grid_mnt/data__data.polcms/cms/sghosh/hackathon/graphsv2_thr0p2phi0p2/\"\n",
    "#raw_dir='/data_CMS/cms/sghosh/elecgraphs/V1condor/'\n",
    "fnamelist = [filepath for filepath in glob.glob(raw_dir+'data*.pt')]\n",
    "data_list_ele = []\n",
    "etav = []\n",
    "for i in tqdm(fnamelist):\n",
    "    idx = torch.load(i)\n",
    "    #print(idx.x.shape[0])\n",
    "    if idx.x.shape[0] < 3:\n",
    "        continue\n",
    "    if not(np.any(idx.nodelabel.numpy())):  ### remove where there are no eles matched\n",
    "        continue\n",
    "    idx.edge_index = idx.edgeidx.long()\n",
    "    idx.edgeidx = []\n",
    "    data_list_ele.append(idx)\n",
    "    #data_list.append(torch.load(i))\n",
    "    \n",
    "\n",
    "#data_list=[x for x in data_list if (x.y<100.)]   \n",
    "print((data_list_ele[0].x))\n",
    "#print(data_list_pho[0].z)\n",
    "print(len(data_list_ele))\n",
    "totalevele = len(data_list_ele)\n",
    "#trainev ="
   ]
  },
  {
   "cell_type": "code",
   "execution_count": 16,
   "metadata": {},
   "outputs": [
    {
     "name": "stdout",
     "output_type": "stream",
     "text": [
      "epoch size,batch_size: 16736 100\n"
     ]
    }
   ],
   "source": [
    "#del data_list_comb\n",
    "totalevele = len(data_list_ele)\n",
    "ntrain = int(0.8*totalevele)\n",
    "import random\n",
    "\n",
    "\n",
    "random.shuffle(data_list_ele)\n",
    "import torch_geometric\n",
    "ntrainbatch = 100\n",
    "ntestbatch = 100\n",
    "trainloader = torch_geometric.data.DataLoader(data_list_ele[:ntrain], batch_size=ntrainbatch)\n",
    "testloader = torch_geometric.data.DataLoader(data_list_ele[ntrain:], batch_size=ntestbatch)\n",
    "#batch_size = ntrainbatch\n",
    "epoch_size = len(data_list_ele[:ntrain])\n",
    "print(\"epoch size,batch_size:\",epoch_size,ntrainbatch)"
   ]
  },
  {
   "cell_type": "code",
   "execution_count": 5,
   "metadata": {},
   "outputs": [],
   "source": [
    "import os\n",
    "import os.path as osp\n",
    "import math\n",
    "\n",
    "import numpy as np\n",
    "import torch\n",
    "import gc\n",
    "import torch.nn as nn\n",
    "import torch.nn.functional as F\n",
    "import torch_geometric.transforms as T\n",
    "\n",
    "from torch.utils.checkpoint import checkpoint\n",
    "from torch_cluster import knn_graph\n",
    "\n",
    "from torch_geometric.nn import EdgeConv, NNConv\n",
    "#from torch_geometric.nn.pool.edge_pool import EdgePooling\n",
    "\n",
    "from torch_geometric.utils import normalized_cut\n",
    "from torch_geometric.utils import remove_self_loops\n",
    "from torch_geometric.utils.undirected import to_undirected\n",
    "from torch_geometric.nn import (graclus, max_pool, max_pool_x,\n",
    "                                global_mean_pool, global_max_pool,\n",
    "                                global_add_pool,BatchNorm)\n",
    "\n",
    "transform = T.Cartesian(cat=False)\n",
    "\n",
    "def normalized_cut_2d(edge_index, pos):\n",
    "    row, col = edge_index\n",
    "    edge_attr = torch.norm(pos[row] - pos[col], p=2, dim=1)\n",
    "    return normalized_cut(edge_index, edge_attr, num_nodes=pos.size(0))\n",
    "\n",
    "class NodeNetwork(nn.Module):\n",
    "    # Nodeclassification network \n",
    "    \n",
    "    def __init__(self, input_dim=5, hidden_dim=64, output_dim=1, k=16, aggr='add',\n",
    "                 norm=torch.tensor([1./500., 1./500., 1./54., 1/25., 1./1000.])):\n",
    " #                norm=torch.tensor([1., 1., 1., 1., 1.])):\n",
    "        super(NodeNetwork, self).__init__()\n",
    "\n",
    "        self.datanorm = nn.Parameter(norm,requires_grad=False)\n",
    "        \n",
    "        self.k = k\n",
    "        start_width = 2 * hidden_dim\n",
    "        middle_width = 3 * hidden_dim // 2\n",
    "\n",
    "        \n",
    "        \n",
    "        self.inputnet =  nn.Sequential(\n",
    "            nn.Linear(input_dim, hidden_dim*2),            \n",
    "            nn.ELU(),\n",
    "            nn.Dropout(0.2),\n",
    "            nn.Linear(hidden_dim*2, hidden_dim*2),\n",
    "            nn.ELU(),\n",
    "            nn.Dropout(0.2),\n",
    "            nn.Linear(hidden_dim*2, hidden_dim*2),\n",
    "            nn.ELU(),\n",
    "            nn.Dropout(0.2),\n",
    "            nn.Linear(hidden_dim*2, hidden_dim*2),\n",
    "            nn.ELU(),\n",
    "            nn.Dropout(0.2),\n",
    "            nn.Linear(hidden_dim*2, hidden_dim),\n",
    "            nn.ELU(),\n",
    "        )\n",
    "        \n",
    "        \n",
    "        convnn1 = nn.Sequential(nn.Linear(start_width, middle_width),\n",
    "                                nn.ELU(),\n",
    "                                nn.Dropout(0.2),\n",
    "                                nn.Linear(middle_width, hidden_dim),                                             \n",
    "                                nn.ELU()\n",
    "                                )\n",
    "        convnn2 = nn.Sequential(nn.Linear(start_width, middle_width),\n",
    "                                nn.ELU(),\n",
    "                                nn.Dropout(0.2),\n",
    "                                nn.Linear(middle_width, hidden_dim),                                             \n",
    "                                nn.ELU()\n",
    "                                )\n",
    "        \n",
    "        convnn3 = nn.Sequential(nn.Linear(start_width, middle_width),\n",
    "                                nn.ELU(),\n",
    "                                nn.Dropout(0.2),\n",
    "                                nn.Linear(middle_width, hidden_dim),                                             \n",
    "                                nn.ELU(),\n",
    "                                nn.Linear(hidden_dim, output_dim)                                           \n",
    "                                )\n",
    "                \n",
    "        self.edgeconv1 = EdgeConv(nn=convnn1, aggr=aggr)\n",
    "        self.edgeconv2 = EdgeConv(nn=convnn2, aggr=aggr)\n",
    "        self.edgeconv3 = EdgeConv(nn=convnn3, aggr=aggr)\n",
    "        \n",
    "        self.output = nn.Sequential(nn.Linear(hidden_dim, hidden_dim),\n",
    "                                    nn.ELU(),\n",
    "                                    nn.Dropout(0.2),\n",
    "                                    #nn.Softplus(),\n",
    "                                    nn.Linear(hidden_dim, hidden_dim//2),\n",
    "                                    nn.ELU(),\n",
    "                                    nn.Dropout(0.2),\n",
    "                                    #nn.Softplus(),\n",
    "#                                    nn.Linear(hidden_dim//2, hidden_dim//2),#added\n",
    " #                                   nn.ELU(),\n",
    "                                    #nn.Softplus(),\n",
    "                                    nn.Linear(hidden_dim//2, output_dim)\n",
    "                                   )\n",
    "        self.batchnorm1 = BatchNorm(hidden_dim)\n",
    "        \n",
    "    def forward(self, data):        \n",
    "        data.x = self.datanorm * data.x\n",
    "        data.x = self.inputnet(data.x)\n",
    "        \n",
    "        #data.edge_index = to_undirected(knn_graph(data.x, self.k, data.batch, loop=False, flow=self.edgeconv1.flow))\n",
    "        data.x = self.edgeconv1(data.x, data.edge_index)\n",
    "        data.x = self.edgeconv2(data.x, data.edge_index)\n",
    "        data.x = self.edgeconv3(data.x, data.edge_index)\n",
    "        \n",
    "        src, dst = data.edge_index\n",
    "        score = (data.x[src] * data.x[dst]).sum(dim=-1)\n",
    "        return score"
   ]
  },
  {
   "cell_type": "code",
   "execution_count": 20,
   "metadata": {},
   "outputs": [],
   "source": [
    "from lr_regulation import *\n",
    "\n",
    "from tqdm import tqdm_notebook as tqdm\n",
    "\n",
    "\n",
    "class Net(nn.Module):\n",
    "    def __init__(self):\n",
    "        super(Net, self).__init__()\n",
    "        self.drn = NodeNetwork(input_dim=8,\n",
    "                                           hidden_dim=100, #50\n",
    "                                           k=6,#16\n",
    "                                           output_dim=10,\n",
    "                                           norm=torch.tensor([1., 1., 1., 1.,1.,1.,1.,1.]))\n",
    "        \n",
    "    def forward(self, data):\n",
    "        logits = self.drn(data)\n",
    "        #return F.softplus(logits)\n",
    "        return torch.sigmoid(logits)\n",
    "        #return logits\n",
    "device = torch.device('cuda:3')#('cuda' if torch.cuda.is_available() else 'cpu')\n",
    "#device = torch.device('cpu')\n",
    "model = Net().to(device)\n",
    "#optimizer = torch.optim.AdamW(model.parameters(), lr=0.001)\n",
    "optimizer = torch.optim.AdamW(model.parameters(), lr=1e-3, weight_decay=1e-3)\n",
    "#optimizer = torch.optim.AdamW(model.parameters(), lr=3e-4, weight_decay=1e-3)\n",
    "scheduler = CyclicLRWithRestarts(optimizer, ntrainbatch, epoch_size, restart_period=200, t_mult=1.2, policy=\"cosine\")\n",
    "\n",
    "from torch.autograd import Variable\n",
    "\n",
    "class FocalLoss(nn.Module):\n",
    "    def __init__(self, gamma=0, alpha=None, size_average=True):\n",
    "        super(FocalLoss, self).__init__()\n",
    "        self.gamma = gamma\n",
    "        self.alpha = alpha\n",
    "        if isinstance(alpha,(float,int)): self.alpha = torch.Tensor([alpha,1-alpha])\n",
    "        if isinstance(alpha,list): self.alpha = torch.Tensor(alpha)\n",
    "        self.size_average = size_average\n",
    "\n",
    "    def forward(self, input, target):\n",
    "        if input.dim()>2:\n",
    "            input = input.view(input.size(0),input.size(1),-1)  # N,C,H,W => N,C,H*W\n",
    "            input = input.transpose(1,2)    # N,C,H*W => N,H*W,C\n",
    "            input = input.contiguous().view(-1,input.size(2))   # N,H*W,C => N*H*W,C\n",
    "        target = target.view(-1,1)\n",
    "\n",
    "        logpt = F.log_softmax(input)\n",
    "        logpt = logpt.gather(1,target)\n",
    "        logpt = logpt.view(-1)\n",
    "        pt = Variable(logpt.data.exp())\n",
    "\n",
    "        if self.alpha is not None:\n",
    "            if self.alpha.type()!=input.data.type():\n",
    "                self.alpha = self.alpha.type_as(input.data)\n",
    "            at = self.alpha.gather(0,target.data.view(-1))\n",
    "            logpt = logpt * Variable(at)\n",
    "\n",
    "        loss = -1 * (1-pt)**self.gamma * logpt\n",
    "        if self.size_average: return loss.mean()\n",
    "        else: return loss.sum() \n",
    "\n",
    "focalloss = FocalLoss()        \n",
    "\n",
    "\n",
    "     \n",
    "#losscat = torch.nn.CrossEntropyLoss(weight=torch.tensor([1., 2.],device=\"cuda:1\"))    \n",
    "losscat = torch.nn.CrossEntropyLoss()#weight=torch.tensor([1., 2.],device=\"cuda:1\"))    \n",
    "def categorical_loss(outputa,trutha,alpha):\n",
    "    total_loss =  losscat(outputa[:,:2],trutha[:,0].long()) + alpha*resoloss(outputa[:,2],trutha[:,1])\n",
    "    return total_loss\n",
    "\n",
    "\n",
    "def categorical_loss_only(outputa,trutha):\n",
    "    total_loss =  losscat(outputa,trutha) \n",
    "    return total_loss\n",
    "\n",
    "\n",
    "def bcategorical_loss(outputa,trutha):\n",
    "    total_loss = F.binary_cross_entropy(outputa, trutha.float())\n",
    "    return torch.mean(total_loss)\n",
    "\n",
    "#model.train()\n",
    "def train(epoch):\n",
    "    model.train()\n",
    "    #torch.cuda.empty_cache()\n",
    "    scheduler.step()\n",
    "    loss = []\n",
    "    for data in tqdm(trainloader):\n",
    "            data = data.to(device)        \n",
    "            optimizer.zero_grad()\n",
    "            #print(data.x.size())\n",
    "            result = model(data)\n",
    "            #print(result.shape,data.edgelabel.shape)\n",
    "            #lossc = focalloss(result, data.edgelabel.type(torch.int64))\n",
    "            #lossc = categorical_loss_only(result, data.edgelabel.type(torch.int64))\n",
    "            lossc = bcategorical_loss(result, data.edgelabel.type(torch.int64))\n",
    "            loss.append(lossc.item()) \n",
    "            lossc.backward()\n",
    "            optimizer.step()\n",
    "            scheduler.batch_step()\n",
    "    print( 'batches for train:',len(loss)) \n",
    "#    print('loss',loss)\n",
    "    print('train loss:',np.mean(np.array(loss)))\n",
    "    return np.mean(np.array(loss))\n",
    "\n",
    "\n",
    "\n",
    "\n",
    "def gaussian(x,  mean,a, sigma):\n",
    "    return a * np.exp(-((x - mean)**2 / (2 * sigma**2)))\n",
    "\n",
    "def evaluate(epoch):\n",
    "        \"\"\"\"Evaluate the model\"\"\"\n",
    "        model.zero_grad()\n",
    "        #torch.cuda.empty_cache()\n",
    "        model.eval()\n",
    "        pred = []\n",
    "        true = []\n",
    "        loss= []\n",
    "        \n",
    "        correct = 0\n",
    "        predc = []\n",
    "        truec = []\n",
    "        for data in tqdm(testloader):\n",
    "            data = data.to(device)        \n",
    "            result = model(data)\n",
    "            #lossc = resoloss(result, data.y)\n",
    "            #lossc = categorical_loss_only(result, data.label)\n",
    "            #lossc = focalloss(result, data.edgelabel.type(torch.int64))\n",
    "            #lossc = categorical_loss_only(result, data.edgelabel.type(torch.int64))\n",
    "            lossc = bcategorical_loss(result, data.edgelabel.type(torch.int64))\n",
    "#            print (result.item(),data.y.item())\n",
    "#            frac.append((result.item() - data.y.item())/data.y.item())\n",
    "            loss.append(lossc.item())\n",
    "\n",
    "            for i in result:\n",
    "                #pred.append(i.detach().cpu()[2])\n",
    "                predc.append(i.detach().cpu())\n",
    "                #print(i.detach().cpu().argmax())\n",
    "            for i in data.edgelabel.detach():\n",
    "                #true.append(i.detach().cpu()[1])\n",
    "                truec.append(i.detach().cpu().flatten())\n",
    "                #print(i.detach().cpu())\n",
    "            \n",
    "        #print(predc,truec)\n",
    "        predc = np.array(predc)\n",
    "        predc[predc < 0.5] = 0.\n",
    "        predc[predc > 0.5] = 1.\n",
    "        truec = np.array(truec)\n",
    "        \n",
    "        #eleacc = [] \n",
    "        #puacc = []\n",
    "        \n",
    "        totacc = np.equal(predc,truec).sum()/len(truec)\n",
    "        eleacc = np.equal(predc[truec==1],truec[truec==1]).sum()/len(truec[truec==1])\n",
    "        puacc = np.equal(predc[truec==0],truec[truec==0]).sum()/len(truec[truec==0])\n",
    "\n",
    "\n",
    "        return np.mean(np.array(loss)), totacc, eleacc, puacc\n",
    "        \n"
   ]
  },
  {
   "cell_type": "code",
   "execution_count": null,
   "metadata": {},
   "outputs": [
    {
     "name": "stderr",
     "output_type": "stream",
     "text": [
      "  2%|▏         | 3/168 [00:00<00:05, 29.25it/s]"
     ]
    },
    {
     "name": "stdout",
     "output_type": "stream",
     "text": [
      "epoch: 1\n"
     ]
    },
    {
     "name": "stderr",
     "output_type": "stream",
     "text": [
      "100%|██████████| 168/168 [00:03<00:00, 52.92it/s]\n",
      "  0%|          | 0/42 [00:00<?, ?it/s]"
     ]
    },
    {
     "name": "stdout",
     "output_type": "stream",
     "text": [
      "batches for train: 168\n",
      "train loss: 56.03413359324137\n"
     ]
    },
    {
     "name": "stderr",
     "output_type": "stream",
     "text": [
      "100%|██████████| 42/42 [00:14<00:00,  2.95it/s]\n",
      "  4%|▎         | 6/168 [00:00<00:02, 55.41it/s]"
     ]
    },
    {
     "name": "stdout",
     "output_type": "stream",
     "text": [
      "test total acc, ele acc, pu acc: 0.36579514809933217 0.7936458005662158 0.3581604472585208\n",
      "new best test loss: 63.34293910435268\n",
      "epoch: 2\n"
     ]
    },
    {
     "name": "stderr",
     "output_type": "stream",
     "text": [
      "100%|██████████| 168/168 [00:02<00:00, 65.95it/s]\n",
      "  0%|          | 0/42 [00:00<?, ?it/s]"
     ]
    },
    {
     "name": "stdout",
     "output_type": "stream",
     "text": [
      "batches for train: 168\n",
      "train loss: 63.6883088520595\n"
     ]
    },
    {
     "name": "stderr",
     "output_type": "stream",
     "text": [
      "100%|██████████| 42/42 [00:13<00:00,  3.13it/s]\n",
      "  4%|▎         | 6/168 [00:00<00:02, 57.63it/s]"
     ]
    },
    {
     "name": "stdout",
     "output_type": "stream",
     "text": [
      "test total acc, ele acc, pu acc: 0.4019775989764574 0.7514941805599245 0.3957407157932552\n",
      "new best test loss: 59.70481854393368\n",
      "epoch: 3\n"
     ]
    },
    {
     "name": "stderr",
     "output_type": "stream",
     "text": [
      "100%|██████████| 168/168 [00:02<00:00, 66.92it/s]\n",
      "  0%|          | 0/42 [00:00<?, ?it/s]"
     ]
    },
    {
     "name": "stdout",
     "output_type": "stream",
     "text": [
      "batches for train: 168\n",
      "train loss: 63.87094570341564\n"
     ]
    },
    {
     "name": "stderr",
     "output_type": "stream",
     "text": [
      "100%|██████████| 42/42 [00:13<00:00,  3.06it/s]\n",
      "  4%|▎         | 6/168 [00:00<00:02, 57.39it/s]"
     ]
    },
    {
     "name": "stdout",
     "output_type": "stream",
     "text": [
      "test total acc, ele acc, pu acc: 0.01754250514252941 1.0 1.1226368494319457e-05\n",
      "epoch: 4\n"
     ]
    },
    {
     "name": "stderr",
     "output_type": "stream",
     "text": [
      "100%|██████████| 168/168 [00:02<00:00, 70.90it/s]\n",
      "  0%|          | 0/42 [00:00<?, ?it/s]"
     ]
    },
    {
     "name": "stdout",
     "output_type": "stream",
     "text": [
      "batches for train: 168\n",
      "train loss: 68.05055570602417\n"
     ]
    },
    {
     "name": "stderr",
     "output_type": "stream",
     "text": [
      "100%|██████████| 42/42 [00:13<00:00,  3.03it/s]\n",
      "  2%|▏         | 3/168 [00:00<00:05, 27.70it/s]"
     ]
    },
    {
     "name": "stdout",
     "output_type": "stream",
     "text": [
      "test total acc, ele acc, pu acc: 0.0185847979661503 0.9993708713431897 0.0010833445597018276\n",
      "epoch: 5\n"
     ]
    },
    {
     "name": "stderr",
     "output_type": "stream",
     "text": [
      "100%|██████████| 168/168 [00:03<00:00, 54.15it/s]\n",
      "  0%|          | 0/42 [00:00<?, ?it/s]"
     ]
    },
    {
     "name": "stdout",
     "output_type": "stream",
     "text": [
      "batches for train: 168\n",
      "train loss: 74.44116758164905\n"
     ]
    },
    {
     "name": "stderr",
     "output_type": "stream",
     "text": [
      "100%|██████████| 42/42 [00:14<00:00,  2.92it/s]\n",
      "  3%|▎         | 5/168 [00:00<00:03, 48.24it/s]"
     ]
    },
    {
     "name": "stdout",
     "output_type": "stream",
     "text": [
      "test total acc, ele acc, pu acc: 0.017553534696218516 1.0 2.2452736988638914e-05\n",
      "epoch: 6\n"
     ]
    },
    {
     "name": "stderr",
     "output_type": "stream",
     "text": [
      "100%|██████████| 168/168 [00:03<00:00, 55.73it/s]\n",
      "  0%|          | 0/42 [00:00<?, ?it/s]"
     ]
    },
    {
     "name": "stdout",
     "output_type": "stream",
     "text": [
      "batches for train: 168\n",
      "train loss: 93.00690446581159\n"
     ]
    },
    {
     "name": "stderr",
     "output_type": "stream",
     "text": [
      "100%|██████████| 42/42 [00:14<00:00,  2.87it/s]\n",
      "  3%|▎         | 5/168 [00:00<00:03, 47.85it/s]"
     ]
    },
    {
     "name": "stdout",
     "output_type": "stream",
     "text": [
      "test total acc, ele acc, pu acc: 0.017553534696218516 1.0 2.2452736988638914e-05\n",
      "epoch: 7\n"
     ]
    },
    {
     "name": "stderr",
     "output_type": "stream",
     "text": [
      "100%|██████████| 168/168 [00:03<00:00, 55.26it/s]\n",
      "  0%|          | 0/42 [00:00<?, ?it/s]"
     ]
    },
    {
     "name": "stdout",
     "output_type": "stream",
     "text": [
      "batches for train: 168\n",
      "train loss: 93.03328382401239\n"
     ]
    },
    {
     "name": "stderr",
     "output_type": "stream",
     "text": [
      "100%|██████████| 42/42 [00:14<00:00,  2.94it/s]\n",
      "  4%|▎         | 6/168 [00:00<00:03, 53.37it/s]"
     ]
    },
    {
     "name": "stdout",
     "output_type": "stream",
     "text": [
      "test total acc, ele acc, pu acc: 0.017553534696218516 1.0 2.2452736988638914e-05\n",
      "epoch: 8\n"
     ]
    },
    {
     "name": "stderr",
     "output_type": "stream",
     "text": [
      "100%|██████████| 168/168 [00:02<00:00, 56.44it/s]\n",
      "  0%|          | 0/42 [00:00<?, ?it/s]"
     ]
    },
    {
     "name": "stdout",
     "output_type": "stream",
     "text": [
      "batches for train: 168\n",
      "train loss: 93.00118482680548\n"
     ]
    },
    {
     "name": "stderr",
     "output_type": "stream",
     "text": [
      "100%|██████████| 42/42 [00:14<00:00,  2.96it/s]\n",
      "  4%|▎         | 6/168 [00:00<00:02, 55.63it/s]"
     ]
    },
    {
     "name": "stdout",
     "output_type": "stream",
     "text": [
      "test total acc, ele acc, pu acc: 0.017553534696218516 1.0 2.2452736988638914e-05\n",
      "epoch: 9\n"
     ]
    },
    {
     "name": "stderr",
     "output_type": "stream",
     "text": [
      "100%|██████████| 168/168 [00:02<00:00, 66.39it/s]\n",
      "  0%|          | 0/42 [00:00<?, ?it/s]"
     ]
    },
    {
     "name": "stdout",
     "output_type": "stream",
     "text": [
      "batches for train: 168\n",
      "train loss: 93.04658748990013\n"
     ]
    },
    {
     "name": "stderr",
     "output_type": "stream",
     "text": [
      "100%|██████████| 42/42 [00:13<00:00,  3.07it/s]\n",
      "  4%|▎         | 6/168 [00:00<00:02, 54.12it/s]"
     ]
    },
    {
     "name": "stdout",
     "output_type": "stream",
     "text": [
      "test total acc, ele acc, pu acc: 0.017553534696218516 1.0 2.2452736988638914e-05\n",
      "epoch: 10\n"
     ]
    },
    {
     "name": "stderr",
     "output_type": "stream",
     "text": [
      "100%|██████████| 168/168 [00:02<00:00, 61.40it/s]\n",
      "  0%|          | 0/42 [00:00<?, ?it/s]"
     ]
    },
    {
     "name": "stdout",
     "output_type": "stream",
     "text": [
      "batches for train: 168\n",
      "train loss: 93.01157624380929\n"
     ]
    },
    {
     "name": "stderr",
     "output_type": "stream",
     "text": [
      "100%|██████████| 42/42 [00:13<00:00,  3.05it/s]\n"
     ]
    },
    {
     "name": "stdout",
     "output_type": "stream",
     "text": [
      "test total acc, ele acc, pu acc: 0.017553534696218516 1.0 2.2452736988638914e-05\n"
     ]
    },
    {
     "data": {
      "image/png": "[encoded data removed]",
      "text/plain": [
       "<Figure size 640x480 with 1 Axes>"
      ]
     },
     "metadata": {
      "needs_background": "light"
     },
     "output_type": "display_data"
    },
    {
     "data": {
      "image/png": "[encoded data removed]",
      "text/plain": [
       "<Figure size 432x288 with 1 Axes>"
      ]
     },
     "metadata": {
      "needs_background": "light"
     },
     "output_type": "display_data"
    },
    {
     "name": "stderr",
     "output_type": "stream",
     "text": [
      "No handles with labels found to put in legend.\n"
     ]
    },
    {
     "data": {
      "image/png": "[encoded data removed]",
      "text/plain": [
       "<Figure size 1440x864 with 2 Axes>"
      ]
     },
     "metadata": {
      "needs_background": "light"
     },
     "output_type": "display_data"
    },
    {
     "name": "stderr",
     "output_type": "stream",
     "text": [
      "  4%|▎         | 6/168 [00:00<00:02, 58.59it/s]"
     ]
    },
    {
     "name": "stdout",
     "output_type": "stream",
     "text": [
      "epoch: 11\n"
     ]
    },
    {
     "name": "stderr",
     "output_type": "stream",
     "text": [
      "100%|██████████| 168/168 [00:02<00:00, 69.34it/s]\n",
      "  0%|          | 0/42 [00:00<?, ?it/s]"
     ]
    },
    {
     "name": "stdout",
     "output_type": "stream",
     "text": [
      "batches for train: 168\n",
      "train loss: 93.05547473544166\n"
     ]
    },
    {
     "name": "stderr",
     "output_type": "stream",
     "text": [
      "100%|██████████| 42/42 [00:14<00:00,  2.96it/s]\n",
      "  2%|▏         | 3/168 [00:00<00:06, 26.98it/s]"
     ]
    },
    {
     "name": "stdout",
     "output_type": "stream",
     "text": [
      "test total acc, ele acc, pu acc: 0.017553534696218516 1.0 2.2452736988638914e-05\n",
      "epoch: 12\n"
     ]
    },
    {
     "name": "stderr",
     "output_type": "stream",
     "text": [
      "100%|██████████| 168/168 [00:03<00:00, 54.59it/s]\n",
      "  0%|          | 0/42 [00:00<?, ?it/s]"
     ]
    },
    {
     "name": "stdout",
     "output_type": "stream",
     "text": [
      "batches for train: 168\n",
      "train loss: 93.00788643246605\n"
     ]
    },
    {
     "name": "stderr",
     "output_type": "stream",
     "text": [
      "100%|██████████| 42/42 [00:14<00:00,  2.94it/s]\n",
      "  2%|▏         | 3/168 [00:00<00:06, 27.43it/s]"
     ]
    },
    {
     "name": "stdout",
     "output_type": "stream",
     "text": [
      "test total acc, ele acc, pu acc: 0.017553534696218516 1.0 2.2452736988638914e-05\n",
      "epoch: 13\n"
     ]
    },
    {
     "name": "stderr",
     "output_type": "stream",
     "text": [
      "100%|██████████| 168/168 [00:03<00:00, 54.22it/s]\n",
      "  0%|          | 0/42 [00:00<?, ?it/s]"
     ]
    },
    {
     "name": "stdout",
     "output_type": "stream",
     "text": [
      "batches for train: 168\n",
      "train loss: 93.04786246163505\n"
     ]
    },
    {
     "name": "stderr",
     "output_type": "stream",
     "text": [
      "100%|██████████| 42/42 [00:14<00:00,  2.96it/s]\n",
      "  3%|▎         | 5/168 [00:00<00:03, 47.99it/s]"
     ]
    },
    {
     "name": "stdout",
     "output_type": "stream",
     "text": [
      "test total acc, ele acc, pu acc: 0.017553534696218516 1.0 2.2452736988638914e-05\n",
      "epoch: 14\n"
     ]
    },
    {
     "name": "stderr",
     "output_type": "stream",
     "text": [
      "100%|██████████| 168/168 [00:03<00:00, 55.84it/s]\n",
      "  0%|          | 0/42 [00:00<?, ?it/s]"
     ]
    },
    {
     "name": "stdout",
     "output_type": "stream",
     "text": [
      "batches for train: 168\n",
      "train loss: 93.10087698981876\n"
     ]
    },
    {
     "name": "stderr",
     "output_type": "stream",
     "text": [
      "100%|██████████| 42/42 [00:14<00:00,  2.95it/s]\n",
      "  2%|▏         | 3/168 [00:00<00:06, 27.18it/s]"
     ]
    },
    {
     "name": "stdout",
     "output_type": "stream",
     "text": [
      "test total acc, ele acc, pu acc: 0.017553534696218516 1.0 2.2452736988638914e-05\n",
      "epoch: 15\n"
     ]
    },
    {
     "name": "stderr",
     "output_type": "stream",
     "text": [
      "100%|██████████| 168/168 [00:03<00:00, 54.81it/s]\n",
      "  0%|          | 0/42 [00:00<?, ?it/s]"
     ]
    },
    {
     "name": "stdout",
     "output_type": "stream",
     "text": [
      "batches for train: 168\n",
      "train loss: 93.01939632779076\n"
     ]
    },
    {
     "name": "stderr",
     "output_type": "stream",
     "text": [
      "100%|██████████| 42/42 [00:14<00:00,  2.97it/s]\n",
      "  2%|▏         | 3/168 [00:00<00:05, 28.51it/s]"
     ]
    },
    {
     "name": "stdout",
     "output_type": "stream",
     "text": [
      "test total acc, ele acc, pu acc: 0.017553534696218516 1.0 2.2452736988638914e-05\n",
      "epoch: 16\n"
     ]
    },
    {
     "name": "stderr",
     "output_type": "stream",
     "text": [
      "100%|██████████| 168/168 [00:02<00:00, 63.91it/s]\n",
      "  0%|          | 0/42 [00:00<?, ?it/s]"
     ]
    },
    {
     "name": "stdout",
     "output_type": "stream",
     "text": [
      "batches for train: 168\n",
      "train loss: 68.54483647573562\n"
     ]
    },
    {
     "name": "stderr",
     "output_type": "stream",
     "text": [
      "100%|██████████| 42/42 [00:13<00:00,  3.07it/s]\n",
      "  2%|▏         | 3/168 [00:00<00:05, 28.73it/s]"
     ]
    },
    {
     "name": "stdout",
     "output_type": "stream",
     "text": [
      "test total acc, ele acc, pu acc: 0.27379212600162134 0.8977665932683234 0.2626577304773452\n",
      "epoch: 17\n"
     ]
    },
    {
     "name": "stderr",
     "output_type": "stream",
     "text": [
      "100%|██████████| 168/168 [00:02<00:00, 63.06it/s]\n",
      "  0%|          | 0/42 [00:00<?, ?it/s]"
     ]
    },
    {
     "name": "stdout",
     "output_type": "stream",
     "text": [
      "batches for train: 168\n",
      "train loss: 48.944089503515336\n"
     ]
    },
    {
     "name": "stderr",
     "output_type": "stream",
     "text": [
      "100%|██████████| 42/42 [00:13<00:00,  3.10it/s]\n",
      "  4%|▎         | 6/168 [00:00<00:02, 59.75it/s]"
     ]
    },
    {
     "name": "stdout",
     "output_type": "stream",
     "text": [
      "test total acc, ele acc, pu acc: 0.27379212600162134 0.8977665932683234 0.2626577304773452\n",
      "epoch: 18\n"
     ]
    },
    {
     "name": "stderr",
     "output_type": "stream",
     "text": [
      "100%|██████████| 168/168 [00:02<00:00, 68.21it/s]\n",
      "  0%|          | 0/42 [00:00<?, ?it/s]"
     ]
    },
    {
     "name": "stdout",
     "output_type": "stream",
     "text": [
      "batches for train: 168\n",
      "train loss: 48.91560213906424\n"
     ]
    },
    {
     "name": "stderr",
     "output_type": "stream",
     "text": [
      "100%|██████████| 42/42 [00:13<00:00,  3.00it/s]\n",
      "  3%|▎         | 5/168 [00:00<00:03, 47.53it/s]"
     ]
    },
    {
     "name": "stdout",
     "output_type": "stream",
     "text": [
      "test total acc, ele acc, pu acc: 0.27379212600162134 0.8977665932683234 0.2626577304773452\n",
      "epoch: 19\n"
     ]
    },
    {
     "name": "stderr",
     "output_type": "stream",
     "text": [
      "100%|██████████| 168/168 [00:03<00:00, 55.35it/s]\n",
      "  0%|          | 0/42 [00:00<?, ?it/s]"
     ]
    },
    {
     "name": "stdout",
     "output_type": "stream",
     "text": [
      "batches for train: 168\n",
      "train loss: 48.90214050383795\n"
     ]
    },
    {
     "name": "stderr",
     "output_type": "stream",
     "text": [
      "100%|██████████| 42/42 [00:14<00:00,  2.96it/s]\n",
      "  2%|▏         | 3/168 [00:00<00:06, 27.11it/s]"
     ]
    },
    {
     "name": "stdout",
     "output_type": "stream",
     "text": [
      "test total acc, ele acc, pu acc: 0.27379212600162134 0.8977665932683234 0.2626577304773452\n",
      "epoch: 20\n"
     ]
    },
    {
     "name": "stderr",
     "output_type": "stream",
     "text": [
      "100%|██████████| 168/168 [00:03<00:00, 53.82it/s]\n",
      "  0%|          | 0/42 [00:00<?, ?it/s]"
     ]
    },
    {
     "name": "stdout",
     "output_type": "stream",
     "text": [
      "batches for train: 168\n",
      "train loss: 48.88765591666812\n"
     ]
    },
    {
     "name": "stderr",
     "output_type": "stream",
     "text": [
      "100%|██████████| 42/42 [00:14<00:00,  2.90it/s]\n"
     ]
    },
    {
     "name": "stdout",
     "output_type": "stream",
     "text": [
      "test total acc, ele acc, pu acc: 0.27378109644793225 0.8977665932683234 0.2626465041088509\n"
     ]
    },
    {
     "data": {
      "image/png": "[encoded data removed]",
      "text/plain": [
       "<Figure size 432x288 with 1 Axes>"
      ]
     },
     "metadata": {
      "needs_background": "light"
     },
     "output_type": "display_data"
    },
    {
     "data": {
      "image/png": "[encoded data removed]",
      "text/plain": [
       "<Figure size 432x288 with 1 Axes>"
      ]
     },
     "metadata": {
      "needs_background": "light"
     },
     "output_type": "display_data"
    },
    {
     "name": "stderr",
     "output_type": "stream",
     "text": [
      "No handles with labels found to put in legend.\n"
     ]
    },
    {
     "data": {
      "image/png": "[encoded data removed]",
      "text/plain": [
       "<Figure size 1440x864 with 2 Axes>"
      ]
     },
     "metadata": {
      "needs_background": "light"
     },
     "output_type": "display_data"
    },
    {
     "name": "stderr",
     "output_type": "stream",
     "text": [
      "  3%|▎         | 5/168 [00:00<00:03, 48.09it/s]"
     ]
    },
    {
     "name": "stdout",
     "output_type": "stream",
     "text": [
      "epoch: 21\n"
     ]
    },
    {
     "name": "stderr",
     "output_type": "stream",
     "text": [
      "100%|██████████| 168/168 [00:02<00:00, 56.42it/s]\n",
      "  0%|          | 0/42 [00:00<?, ?it/s]"
     ]
    },
    {
     "name": "stdout",
     "output_type": "stream",
     "text": [
      "batches for train: 168\n",
      "train loss: 49.03272279103597\n"
     ]
    },
    {
     "name": "stderr",
     "output_type": "stream",
     "text": [
      "100%|██████████| 42/42 [00:14<00:00,  2.93it/s]\n",
      "  2%|▏         | 3/168 [00:00<00:05, 27.69it/s]"
     ]
    },
    {
     "name": "stdout",
     "output_type": "stream",
     "text": [
      "test total acc, ele acc, pu acc: 0.2737755816710877 0.8977665932683234 0.2626408909246037\n",
      "epoch: 22\n"
     ]
    },
    {
     "name": "stderr",
     "output_type": "stream",
     "text": [
      "100%|██████████| 168/168 [00:03<00:00, 54.47it/s]\n",
      "  0%|          | 0/42 [00:00<?, ?it/s]"
     ]
    },
    {
     "name": "stdout",
     "output_type": "stream",
     "text": [
      "batches for train: 168\n",
      "train loss: 48.96399091538929\n"
     ]
    },
    {
     "name": "stderr",
     "output_type": "stream",
     "text": [
      "100%|██████████| 42/42 [00:13<00:00,  3.04it/s]\n",
      "  2%|▏         | 3/168 [00:00<00:05, 28.29it/s]"
     ]
    },
    {
     "name": "stdout",
     "output_type": "stream",
     "text": [
      "test total acc, ele acc, pu acc: 0.2737645521173986 0.8977665932683234 0.26262966455610937\n",
      "epoch: 23\n"
     ]
    },
    {
     "name": "stderr",
     "output_type": "stream",
     "text": [
      "100%|██████████| 168/168 [00:02<00:00, 63.15it/s]\n",
      "  0%|          | 0/42 [00:00<?, ?it/s]"
     ]
    },
    {
     "name": "stdout",
     "output_type": "stream",
     "text": [
      "batches for train: 168\n",
      "train loss: 48.93360458101545\n"
     ]
    },
    {
     "name": "stderr",
     "output_type": "stream",
     "text": [
      "100%|██████████| 42/42 [00:13<00:00,  3.06it/s]\n",
      "  4%|▎         | 6/168 [00:00<00:02, 55.27it/s]"
     ]
    },
    {
     "name": "stdout",
     "output_type": "stream",
     "text": [
      "test total acc, ele acc, pu acc: 0.2737645521173986 0.8977665932683234 0.26262966455610937\n",
      "epoch: 24\n"
     ]
    },
    {
     "name": "stderr",
     "output_type": "stream",
     "text": [
      "100%|██████████| 168/168 [00:02<00:00, 67.10it/s]\n",
      "  0%|          | 0/42 [00:00<?, ?it/s]"
     ]
    },
    {
     "name": "stdout",
     "output_type": "stream",
     "text": [
      "batches for train: 168\n",
      "train loss: 48.86354316983904\n"
     ]
    },
    {
     "name": "stderr",
     "output_type": "stream",
     "text": [
      "100%|██████████| 42/42 [00:13<00:00,  3.08it/s]\n",
      "  4%|▎         | 6/168 [00:00<00:02, 58.37it/s]"
     ]
    },
    {
     "name": "stdout",
     "output_type": "stream",
     "text": [
      "test total acc, ele acc, pu acc: 0.2737645521173986 0.8977665932683234 0.26262966455610937\n",
      "epoch: 25\n"
     ]
    },
    {
     "name": "stderr",
     "output_type": "stream",
     "text": [
      "100%|██████████| 168/168 [00:02<00:00, 68.59it/s]\n",
      "  0%|          | 0/42 [00:00<?, ?it/s]"
     ]
    },
    {
     "name": "stdout",
     "output_type": "stream",
     "text": [
      "batches for train: 168\n",
      "train loss: 49.015174457005095\n"
     ]
    },
    {
     "name": "stderr",
     "output_type": "stream",
     "text": [
      "100%|██████████| 42/42 [00:14<00:00,  2.95it/s]\n",
      "  3%|▎         | 5/168 [00:00<00:03, 48.79it/s]"
     ]
    },
    {
     "name": "stdout",
     "output_type": "stream",
     "text": [
      "test total acc, ele acc, pu acc: 0.2737645521173986 0.8977665932683234 0.26262966455610937\n",
      "epoch: 26\n"
     ]
    },
    {
     "name": "stderr",
     "output_type": "stream",
     "text": [
      "100%|██████████| 168/168 [00:03<00:00, 55.28it/s]\n",
      "  0%|          | 0/42 [00:00<?, ?it/s]"
     ]
    },
    {
     "name": "stdout",
     "output_type": "stream",
     "text": [
      "batches for train: 168\n",
      "train loss: 48.99771981012253\n"
     ]
    },
    {
     "name": "stderr",
     "output_type": "stream",
     "text": [
      "100%|██████████| 42/42 [00:14<00:00,  2.93it/s]\n",
      "  3%|▎         | 5/168 [00:00<00:03, 48.49it/s]"
     ]
    },
    {
     "name": "stdout",
     "output_type": "stream",
     "text": [
      "test total acc, ele acc, pu acc: 0.273759037340554 0.8977665932683234 0.26262405137186223\n",
      "epoch: 27\n"
     ]
    },
    {
     "name": "stderr",
     "output_type": "stream",
     "text": [
      "100%|██████████| 168/168 [00:03<00:00, 55.96it/s]\n",
      "  0%|          | 0/42 [00:00<?, ?it/s]"
     ]
    },
    {
     "name": "stdout",
     "output_type": "stream",
     "text": [
      "batches for train: 168\n",
      "train loss: 48.91875507718041\n"
     ]
    },
    {
     "name": "stderr",
     "output_type": "stream",
     "text": [
      "100%|██████████| 42/42 [00:14<00:00,  2.92it/s]\n",
      "  2%|▏         | 3/168 [00:00<00:06, 27.24it/s]"
     ]
    },
    {
     "name": "stdout",
     "output_type": "stream",
     "text": [
      "test total acc, ele acc, pu acc: 0.273759037340554 0.8977665932683234 0.26262405137186223\n",
      "epoch: 28\n"
     ]
    },
    {
     "name": "stderr",
     "output_type": "stream",
     "text": [
      "100%|██████████| 168/168 [00:03<00:00, 54.23it/s]\n",
      "  0%|          | 0/42 [00:00<?, ?it/s]"
     ]
    },
    {
     "name": "stdout",
     "output_type": "stream",
     "text": [
      "batches for train: 168\n",
      "train loss: 48.97054690406436\n"
     ]
    },
    {
     "name": "stderr",
     "output_type": "stream",
     "text": [
      "100%|██████████| 42/42 [00:14<00:00,  2.94it/s]\n",
      "  2%|▏         | 3/168 [00:00<00:05, 28.57it/s]"
     ]
    },
    {
     "name": "stdout",
     "output_type": "stream",
     "text": [
      "test total acc, ele acc, pu acc: 0.2737645521173986 0.8977665932683234 0.26262966455610937\n",
      "epoch: 29\n"
     ]
    },
    {
     "name": "stderr",
     "output_type": "stream",
     "text": [
      "100%|██████████| 168/168 [00:03<00:00, 54.35it/s]\n",
      "  0%|          | 0/42 [00:00<?, ?it/s]"
     ]
    },
    {
     "name": "stdout",
     "output_type": "stream",
     "text": [
      "batches for train: 168\n",
      "train loss: 48.96180779593332\n"
     ]
    },
    {
     "name": "stderr",
     "output_type": "stream",
     "text": [
      "100%|██████████| 42/42 [00:13<00:00,  3.08it/s]\n",
      "  4%|▎         | 6/168 [00:00<00:02, 55.10it/s]"
     ]
    },
    {
     "name": "stdout",
     "output_type": "stream",
     "text": [
      "test total acc, ele acc, pu acc: 0.2737645521173986 0.8977665932683234 0.26262966455610937\n",
      "epoch: 30\n"
     ]
    },
    {
     "name": "stderr",
     "output_type": "stream",
     "text": [
      "100%|██████████| 168/168 [00:02<00:00, 66.25it/s]\n",
      "  0%|          | 0/42 [00:00<?, ?it/s]"
     ]
    },
    {
     "name": "stdout",
     "output_type": "stream",
     "text": [
      "batches for train: 168\n",
      "train loss: 48.927074568612234\n"
     ]
    },
    {
     "name": "stderr",
     "output_type": "stream",
     "text": [
      "100%|██████████| 42/42 [00:13<00:00,  3.05it/s]\n"
     ]
    },
    {
     "name": "stdout",
     "output_type": "stream",
     "text": [
      "test total acc, ele acc, pu acc: 0.2737645521173986 0.8977665932683234 0.26262966455610937\n"
     ]
    },
    {
     "data": {
      "image/png": "[encoded data removed]",
      "text/plain": [
       "<Figure size 432x288 with 1 Axes>"
      ]
     },
     "metadata": {
      "needs_background": "light"
     },
     "output_type": "display_data"
    },
    {
     "data": {
      "image/png": "[encoded data removed]",
      "text/plain": [
       "<Figure size 432x288 with 1 Axes>"
      ]
     },
     "metadata": {
      "needs_background": "light"
     },
     "output_type": "display_data"
    },
    {
     "name": "stderr",
     "output_type": "stream",
     "text": [
      "No handles with labels found to put in legend.\n"
     ]
    },
    {
     "data": {
      "image/png": "[encoded data removed]",
      "text/plain": [
       "<Figure size 1440x864 with 2 Axes>"
      ]
     },
     "metadata": {
      "needs_background": "light"
     },
     "output_type": "display_data"
    },
    {
     "name": "stderr",
     "output_type": "stream",
     "text": [
      "  4%|▎         | 6/168 [00:00<00:02, 54.33it/s]"
     ]
    },
    {
     "name": "stdout",
     "output_type": "stream",
     "text": [
      "epoch: 31\n"
     ]
    },
    {
     "name": "stderr",
     "output_type": "stream",
     "text": [
      "100%|██████████| 168/168 [00:02<00:00, 65.98it/s]\n",
      "  0%|          | 0/42 [00:00<?, ?it/s]"
     ]
    },
    {
     "name": "stdout",
     "output_type": "stream",
     "text": [
      "batches for train: 168\n",
      "train loss: 48.90988104684012\n"
     ]
    },
    {
     "name": "stderr",
     "output_type": "stream",
     "text": [
      "100%|██████████| 42/42 [00:13<00:00,  3.08it/s]\n",
      "  4%|▍         | 7/168 [00:00<00:02, 60.95it/s]"
     ]
    },
    {
     "name": "stdout",
     "output_type": "stream",
     "text": [
      "test total acc, ele acc, pu acc: 0.2737645521173986 0.8977665932683234 0.26262966455610937\n",
      "epoch: 32\n"
     ]
    },
    {
     "name": "stderr",
     "output_type": "stream",
     "text": [
      "100%|██████████| 168/168 [00:02<00:00, 69.36it/s]\n",
      "  0%|          | 0/42 [00:00<?, ?it/s]"
     ]
    },
    {
     "name": "stdout",
     "output_type": "stream",
     "text": [
      "batches for train: 168\n",
      "train loss: 48.901953402019686\n"
     ]
    },
    {
     "name": "stderr",
     "output_type": "stream",
     "text": [
      "100%|██████████| 42/42 [00:14<00:00,  2.95it/s]\n",
      "  3%|▎         | 5/168 [00:00<00:03, 47.69it/s]"
     ]
    },
    {
     "name": "stdout",
     "output_type": "stream",
     "text": [
      "test total acc, ele acc, pu acc: 0.273759037340554 0.8977665932683234 0.26262405137186223\n",
      "epoch: 33\n"
     ]
    },
    {
     "name": "stderr",
     "output_type": "stream",
     "text": [
      "100%|██████████| 168/168 [00:03<00:00, 55.22it/s]\n",
      "  0%|          | 0/42 [00:00<?, ?it/s]"
     ]
    },
    {
     "name": "stdout",
     "output_type": "stream",
     "text": [
      "batches for train: 168\n",
      "train loss: 48.999355066390265\n"
     ]
    },
    {
     "name": "stderr",
     "output_type": "stream",
     "text": [
      "100%|██████████| 42/42 [00:14<00:00,  2.91it/s]\n",
      "  2%|▏         | 3/168 [00:00<00:06, 26.97it/s]"
     ]
    },
    {
     "name": "stdout",
     "output_type": "stream",
     "text": [
      "test total acc, ele acc, pu acc: 0.27375352256370944 0.8977665932683234 0.26261843818761504\n",
      "epoch: 34\n"
     ]
    },
    {
     "name": "stderr",
     "output_type": "stream",
     "text": [
      "100%|██████████| 168/168 [00:03<00:00, 53.74it/s]\n",
      "  0%|          | 0/42 [00:00<?, ?it/s]"
     ]
    },
    {
     "name": "stdout",
     "output_type": "stream",
     "text": [
      "batches for train: 168\n",
      "train loss: 48.91860603150867\n"
     ]
    },
    {
     "name": "stderr",
     "output_type": "stream",
     "text": [
      "100%|██████████| 42/42 [00:14<00:00,  2.95it/s]\n",
      "  2%|▏         | 3/168 [00:00<00:05, 27.57it/s]"
     ]
    },
    {
     "name": "stdout",
     "output_type": "stream",
     "text": [
      "test total acc, ele acc, pu acc: 0.27374249301002035 0.8977665932683234 0.2626072118191208\n",
      "epoch: 35\n"
     ]
    },
    {
     "name": "stderr",
     "output_type": "stream",
     "text": [
      "100%|██████████| 168/168 [00:03<00:00, 53.82it/s]\n",
      "  0%|          | 0/42 [00:00<?, ?it/s]"
     ]
    },
    {
     "name": "stdout",
     "output_type": "stream",
     "text": [
      "batches for train: 168\n",
      "train loss: 48.99280059905279\n"
     ]
    },
    {
     "name": "stderr",
     "output_type": "stream",
     "text": [
      "100%|██████████| 42/42 [00:14<00:00,  2.93it/s]\n",
      "  0%|          | 0/168 [00:00<?, ?it/s]"
     ]
    },
    {
     "name": "stdout",
     "output_type": "stream",
     "text": [
      "test total acc, ele acc, pu acc: 0.27374249301002035 0.8977665932683234 0.2626072118191208\n",
      "epoch: 36\n"
     ]
    },
    {
     "name": "stderr",
     "output_type": "stream",
     "text": [
      "100%|██████████| 168/168 [00:03<00:00, 55.37it/s]\n",
      "  0%|          | 0/42 [00:00<?, ?it/s]"
     ]
    },
    {
     "name": "stdout",
     "output_type": "stream",
     "text": [
      "batches for train: 168\n",
      "train loss: 48.90936651683989\n"
     ]
    },
    {
     "name": "stderr",
     "output_type": "stream",
     "text": [
      "100%|██████████| 42/42 [00:14<00:00,  2.95it/s]\n",
      "  4%|▎         | 6/168 [00:00<00:02, 54.79it/s]"
     ]
    },
    {
     "name": "stdout",
     "output_type": "stream",
     "text": [
      "test total acc, ele acc, pu acc: 0.2737369782331758 0.8977665932683234 0.2626015986348736\n",
      "epoch: 37\n"
     ]
    },
    {
     "name": "stderr",
     "output_type": "stream",
     "text": [
      "100%|██████████| 168/168 [00:02<00:00, 65.78it/s]\n",
      "  0%|          | 0/42 [00:00<?, ?it/s]"
     ]
    },
    {
     "name": "stdout",
     "output_type": "stream",
     "text": [
      "batches for train: 168\n",
      "train loss: 48.953397296723864\n"
     ]
    },
    {
     "name": "stderr",
     "output_type": "stream",
     "text": [
      "100%|██████████| 42/42 [00:13<00:00,  3.09it/s]\n",
      "  4%|▎         | 6/168 [00:00<00:02, 54.05it/s]"
     ]
    },
    {
     "name": "stdout",
     "output_type": "stream",
     "text": [
      "test total acc, ele acc, pu acc: 0.2737369782331758 0.8977665932683234 0.2626015986348736\n",
      "epoch: 38\n"
     ]
    },
    {
     "name": "stderr",
     "output_type": "stream",
     "text": [
      "100%|██████████| 168/168 [00:02<00:00, 65.26it/s]\n",
      "  0%|          | 0/42 [00:00<?, ?it/s]"
     ]
    },
    {
     "name": "stdout",
     "output_type": "stream",
     "text": [
      "batches for train: 168\n",
      "train loss: 48.86300763629732\n"
     ]
    },
    {
     "name": "stderr",
     "output_type": "stream",
     "text": [
      "100%|██████████| 42/42 [00:13<00:00,  3.09it/s]\n",
      "  4%|▎         | 6/168 [00:00<00:02, 59.78it/s]"
     ]
    },
    {
     "name": "stdout",
     "output_type": "stream",
     "text": [
      "test total acc, ele acc, pu acc: 0.27373146345633126 0.8977665932683234 0.26259598545062646\n",
      "epoch: 39\n"
     ]
    },
    {
     "name": "stderr",
     "output_type": "stream",
     "text": [
      "100%|██████████| 168/168 [00:02<00:00, 62.18it/s]\n",
      "  0%|          | 0/42 [00:00<?, ?it/s]"
     ]
    },
    {
     "name": "stdout",
     "output_type": "stream",
     "text": [
      "batches for train: 168\n",
      "train loss: 48.94775338399978\n"
     ]
    },
    {
     "name": "stderr",
     "output_type": "stream",
     "text": [
      "100%|██████████| 42/42 [00:15<00:00,  2.79it/s]\n",
      "  3%|▎         | 5/168 [00:00<00:03, 48.45it/s]"
     ]
    },
    {
     "name": "stdout",
     "output_type": "stream",
     "text": [
      "test total acc, ele acc, pu acc: 0.27373146345633126 0.8977665932683234 0.26259598545062646\n",
      "epoch: 40\n"
     ]
    },
    {
     "name": "stderr",
     "output_type": "stream",
     "text": [
      "100%|██████████| 168/168 [00:03<00:00, 52.72it/s]\n",
      "  0%|          | 0/42 [00:00<?, ?it/s]"
     ]
    },
    {
     "name": "stdout",
     "output_type": "stream",
     "text": [
      "batches for train: 168\n",
      "train loss: 48.93968477703276\n"
     ]
    },
    {
     "name": "stderr",
     "output_type": "stream",
     "text": [
      "100%|██████████| 42/42 [00:15<00:00,  2.76it/s]\n"
     ]
    },
    {
     "name": "stdout",
     "output_type": "stream",
     "text": [
      "test total acc, ele acc, pu acc: 0.27373146345633126 0.8977665932683234 0.26259598545062646\n"
     ]
    },
    {
     "data": {
      "image/png": "[encoded data removed]",
      "text/plain": [
       "<Figure size 432x288 with 1 Axes>"
      ]
     },
     "metadata": {
      "needs_background": "light"
     },
     "output_type": "display_data"
    },
    {
     "data": {
      "image/png": "[encoded data removed]",
      "text/plain": [
       "<Figure size 432x288 with 1 Axes>"
      ]
     },
     "metadata": {
      "needs_background": "light"
     },
     "output_type": "display_data"
    },
    {
     "name": "stderr",
     "output_type": "stream",
     "text": [
      "No handles with labels found to put in legend.\n"
     ]
    },
    {
     "data": {
      "image/png": "[encoded data removed]",
      "text/plain": [
       "<Figure size 1440x864 with 2 Axes>"
      ]
     },
     "metadata": {
      "needs_background": "light"
     },
     "output_type": "display_data"
    },
    {
     "name": "stderr",
     "output_type": "stream",
     "text": [
      "  3%|▎         | 5/168 [00:00<00:03, 46.08it/s]"
     ]
    },
    {
     "name": "stdout",
     "output_type": "stream",
     "text": [
      "epoch: 41\n"
     ]
    },
    {
     "name": "stderr",
     "output_type": "stream",
     "text": [
      "100%|██████████| 168/168 [00:03<00:00, 55.08it/s]\n",
      "  0%|          | 0/42 [00:00<?, ?it/s]"
     ]
    },
    {
     "name": "stdout",
     "output_type": "stream",
     "text": [
      "batches for train: 168\n",
      "train loss: 48.922057106381374\n"
     ]
    },
    {
     "name": "stderr",
     "output_type": "stream",
     "text": [
      "100%|██████████| 42/42 [00:14<00:00,  2.88it/s]\n",
      "  3%|▎         | 5/168 [00:00<00:03, 42.68it/s]"
     ]
    },
    {
     "name": "stdout",
     "output_type": "stream",
     "text": [
      "test total acc, ele acc, pu acc: 0.27373146345633126 0.8977665932683234 0.26259598545062646\n",
      "epoch: 42\n"
     ]
    },
    {
     "name": "stderr",
     "output_type": "stream",
     "text": [
      "100%|██████████| 168/168 [00:03<00:00, 54.65it/s]\n",
      "  0%|          | 0/42 [00:00<?, ?it/s]"
     ]
    },
    {
     "name": "stdout",
     "output_type": "stream",
     "text": [
      "batches for train: 168\n",
      "train loss: 48.936555680774504\n"
     ]
    },
    {
     "name": "stderr",
     "output_type": "stream",
     "text": [
      "100%|██████████| 42/42 [00:14<00:00,  2.85it/s]\n",
      "  3%|▎         | 5/168 [00:00<00:03, 46.47it/s]"
     ]
    },
    {
     "name": "stdout",
     "output_type": "stream",
     "text": [
      "test total acc, ele acc, pu acc: 0.2737369782331758 0.8977665932683234 0.2626015986348736\n",
      "epoch: 43\n"
     ]
    },
    {
     "name": "stderr",
     "output_type": "stream",
     "text": [
      "100%|██████████| 168/168 [00:02<00:00, 56.79it/s]\n",
      "  0%|          | 0/42 [00:00<?, ?it/s]"
     ]
    },
    {
     "name": "stdout",
     "output_type": "stream",
     "text": [
      "batches for train: 168\n",
      "train loss: 48.96949618203299\n"
     ]
    },
    {
     "name": "stderr",
     "output_type": "stream",
     "text": [
      "100%|██████████| 42/42 [00:13<00:00,  3.03it/s]\n",
      "  4%|▎         | 6/168 [00:00<00:02, 56.19it/s]"
     ]
    },
    {
     "name": "stdout",
     "output_type": "stream",
     "text": [
      "test total acc, ele acc, pu acc: 0.27373146345633126 0.8977665932683234 0.26259598545062646\n",
      "epoch: 44\n"
     ]
    },
    {
     "name": "stderr",
     "output_type": "stream",
     "text": [
      "100%|██████████| 168/168 [00:02<00:00, 66.15it/s]\n",
      "  0%|          | 0/42 [00:00<?, ?it/s]"
     ]
    },
    {
     "name": "stdout",
     "output_type": "stream",
     "text": [
      "batches for train: 168\n",
      "train loss: 48.93745233899071\n"
     ]
    },
    {
     "name": "stderr",
     "output_type": "stream",
     "text": [
      "100%|██████████| 42/42 [00:13<00:00,  3.04it/s]\n",
      "  4%|▎         | 6/168 [00:00<00:02, 54.75it/s]"
     ]
    },
    {
     "name": "stdout",
     "output_type": "stream",
     "text": [
      "test total acc, ele acc, pu acc: 0.27373146345633126 0.8977665932683234 0.26259598545062646\n",
      "epoch: 45\n"
     ]
    },
    {
     "name": "stderr",
     "output_type": "stream",
     "text": [
      "100%|██████████| 168/168 [00:02<00:00, 64.62it/s]\n",
      "  0%|          | 0/42 [00:00<?, ?it/s]"
     ]
    },
    {
     "name": "stdout",
     "output_type": "stream",
     "text": [
      "batches for train: 168\n",
      "train loss: 48.84054978688558\n"
     ]
    },
    {
     "name": "stderr",
     "output_type": "stream",
     "text": [
      "100%|██████████| 42/42 [00:13<00:00,  3.05it/s]\n",
      "  3%|▎         | 5/168 [00:00<00:03, 48.96it/s]"
     ]
    },
    {
     "name": "stdout",
     "output_type": "stream",
     "text": [
      "test total acc, ele acc, pu acc: 0.27373146345633126 0.8977665932683234 0.26259598545062646\n",
      "epoch: 46\n"
     ]
    },
    {
     "name": "stderr",
     "output_type": "stream",
     "text": [
      "100%|██████████| 168/168 [00:02<00:00, 56.55it/s]\n",
      "  0%|          | 0/42 [00:00<?, ?it/s]"
     ]
    },
    {
     "name": "stdout",
     "output_type": "stream",
     "text": [
      "batches for train: 168\n",
      "train loss: 48.974363803863525\n"
     ]
    },
    {
     "name": "stderr",
     "output_type": "stream",
     "text": [
      "100%|██████████| 42/42 [00:14<00:00,  2.94it/s]\n",
      "  3%|▎         | 5/168 [00:00<00:03, 48.28it/s]"
     ]
    },
    {
     "name": "stdout",
     "output_type": "stream",
     "text": [
      "test total acc, ele acc, pu acc: 0.27374249301002035 0.8977665932683234 0.2626072118191208\n",
      "epoch: 47\n"
     ]
    },
    {
     "name": "stderr",
     "output_type": "stream",
     "text": [
      "100%|██████████| 168/168 [00:02<00:00, 56.42it/s]\n",
      "  0%|          | 0/42 [00:00<?, ?it/s]"
     ]
    },
    {
     "name": "stdout",
     "output_type": "stream",
     "text": [
      "batches for train: 168\n",
      "train loss: 48.87916728428432\n"
     ]
    },
    {
     "name": "stderr",
     "output_type": "stream",
     "text": [
      "100%|██████████| 42/42 [00:14<00:00,  2.88it/s]\n",
      "  3%|▎         | 5/168 [00:00<00:03, 48.95it/s]"
     ]
    },
    {
     "name": "stdout",
     "output_type": "stream",
     "text": [
      "test total acc, ele acc, pu acc: 0.27374249301002035 0.8977665932683234 0.2626072118191208\n",
      "epoch: 48\n"
     ]
    },
    {
     "name": "stderr",
     "output_type": "stream",
     "text": [
      "100%|██████████| 168/168 [00:02<00:00, 56.68it/s]\n",
      "  0%|          | 0/42 [00:00<?, ?it/s]"
     ]
    },
    {
     "name": "stdout",
     "output_type": "stream",
     "text": [
      "batches for train: 168\n",
      "train loss: 48.93003297987438\n"
     ]
    },
    {
     "name": "stderr",
     "output_type": "stream",
     "text": [
      "100%|██████████| 42/42 [00:14<00:00,  2.85it/s]\n",
      "  3%|▎         | 5/168 [00:00<00:03, 49.13it/s]"
     ]
    },
    {
     "name": "stdout",
     "output_type": "stream",
     "text": [
      "test total acc, ele acc, pu acc: 0.27373146345633126 0.8977665932683234 0.26259598545062646\n",
      "epoch: 49\n"
     ]
    },
    {
     "name": "stderr",
     "output_type": "stream",
     "text": [
      "100%|██████████| 168/168 [00:02<00:00, 56.51it/s]\n",
      "  0%|          | 0/42 [00:00<?, ?it/s]"
     ]
    },
    {
     "name": "stdout",
     "output_type": "stream",
     "text": [
      "batches for train: 168\n",
      "train loss: 48.9225629397801\n"
     ]
    },
    {
     "name": "stderr",
     "output_type": "stream",
     "text": [
      "100%|██████████| 42/42 [00:14<00:00,  2.85it/s]\n",
      "  3%|▎         | 5/168 [00:00<00:03, 48.85it/s]"
     ]
    },
    {
     "name": "stdout",
     "output_type": "stream",
     "text": [
      "test total acc, ele acc, pu acc: 0.27373146345633126 0.8977665932683234 0.26259598545062646\n",
      "epoch: 50\n"
     ]
    },
    {
     "name": "stderr",
     "output_type": "stream",
     "text": [
      "100%|██████████| 168/168 [00:03<00:00, 54.13it/s]\n",
      "  0%|          | 0/42 [00:00<?, ?it/s]"
     ]
    },
    {
     "name": "stdout",
     "output_type": "stream",
     "text": [
      "batches for train: 168\n",
      "train loss: 48.899003119695756\n"
     ]
    },
    {
     "name": "stderr",
     "output_type": "stream",
     "text": [
      "100%|██████████| 42/42 [00:13<00:00,  3.02it/s]\n"
     ]
    },
    {
     "name": "stdout",
     "output_type": "stream",
     "text": [
      "test total acc, ele acc, pu acc: 0.27373146345633126 0.8977665932683234 0.26259598545062646\n"
     ]
    },
    {
     "data": {
      "image/png": "[encoded data removed]",
      "text/plain": [
       "<Figure size 432x288 with 1 Axes>"
      ]
     },
     "metadata": {
      "needs_background": "light"
     },
     "output_type": "display_data"
    },
    {
     "data": {
      "image/png": "[encoded data removed]",
      "text/plain": [
       "<Figure size 432x288 with 1 Axes>"
      ]
     },
     "metadata": {
      "needs_background": "light"
     },
     "output_type": "display_data"
    },
    {
     "name": "stderr",
     "output_type": "stream",
     "text": [
      "No handles with labels found to put in legend.\n"
     ]
    },
    {
     "data": {
      "image/png": "[encoded data removed]",
      "text/plain": [
       "<Figure size 1440x864 with 2 Axes>"
      ]
     },
     "metadata": {
      "needs_background": "light"
     },
     "output_type": "display_data"
    },
    {
     "name": "stderr",
     "output_type": "stream",
     "text": [
      "  4%|▎         | 6/168 [00:00<00:02, 55.43it/s]"
     ]
    },
    {
     "name": "stdout",
     "output_type": "stream",
     "text": [
      "epoch: 51\n"
     ]
    },
    {
     "name": "stderr",
     "output_type": "stream",
     "text": [
      "100%|██████████| 168/168 [00:02<00:00, 64.95it/s]\n",
      "  0%|          | 0/42 [00:00<?, ?it/s]"
     ]
    },
    {
     "name": "stdout",
     "output_type": "stream",
     "text": [
      "batches for train: 168\n",
      "train loss: 48.885424273354666\n"
     ]
    },
    {
     "name": "stderr",
     "output_type": "stream",
     "text": [
      "100%|██████████| 42/42 [00:14<00:00,  2.94it/s]\n",
      "  4%|▎         | 6/168 [00:00<00:02, 55.53it/s]"
     ]
    },
    {
     "name": "stdout",
     "output_type": "stream",
     "text": [
      "test total acc, ele acc, pu acc: 0.27373146345633126 0.8977665932683234 0.26259598545062646\n",
      "epoch: 52\n"
     ]
    },
    {
     "name": "stderr",
     "output_type": "stream",
     "text": [
      "100%|██████████| 168/168 [00:02<00:00, 65.82it/s]\n",
      "  0%|          | 0/42 [00:00<?, ?it/s]"
     ]
    },
    {
     "name": "stdout",
     "output_type": "stream",
     "text": [
      "batches for train: 168\n",
      "train loss: 48.969758215404696\n"
     ]
    },
    {
     "name": "stderr",
     "output_type": "stream",
     "text": [
      "100%|██████████| 42/42 [00:13<00:00,  3.06it/s]\n",
      "  2%|▏         | 4/168 [00:00<00:04, 34.59it/s]"
     ]
    },
    {
     "name": "stdout",
     "output_type": "stream",
     "text": [
      "test total acc, ele acc, pu acc: 0.2737259486794867 0.8977665932683234 0.26259037226637927\n",
      "epoch: 53\n"
     ]
    },
    {
     "name": "stderr",
     "output_type": "stream",
     "text": [
      "100%|██████████| 168/168 [00:03<00:00, 55.42it/s]\n",
      "  0%|          | 0/42 [00:00<?, ?it/s]"
     ]
    },
    {
     "name": "stdout",
     "output_type": "stream",
     "text": [
      "batches for train: 168\n",
      "train loss: 49.02988747188023\n"
     ]
    },
    {
     "name": "stderr",
     "output_type": "stream",
     "text": [
      "100%|██████████| 42/42 [00:14<00:00,  2.87it/s]\n",
      "  2%|▏         | 3/168 [00:00<00:06, 27.28it/s]"
     ]
    },
    {
     "name": "stdout",
     "output_type": "stream",
     "text": [
      "test total acc, ele acc, pu acc: 0.2737259486794867 0.8977665932683234 0.26259037226637927\n",
      "epoch: 54\n"
     ]
    },
    {
     "name": "stderr",
     "output_type": "stream",
     "text": [
      "100%|██████████| 168/168 [00:03<00:00, 54.63it/s]\n",
      "  0%|          | 0/42 [00:00<?, ?it/s]"
     ]
    },
    {
     "name": "stdout",
     "output_type": "stream",
     "text": [
      "batches for train: 168\n",
      "train loss: 48.98891458057222\n"
     ]
    },
    {
     "name": "stderr",
     "output_type": "stream",
     "text": [
      "100%|██████████| 42/42 [00:14<00:00,  2.83it/s]\n",
      "  3%|▎         | 5/168 [00:00<00:03, 48.45it/s]"
     ]
    },
    {
     "name": "stdout",
     "output_type": "stream",
     "text": [
      "test total acc, ele acc, pu acc: 0.2737259486794867 0.8977665932683234 0.26259037226637927\n",
      "epoch: 55\n"
     ]
    },
    {
     "name": "stderr",
     "output_type": "stream",
     "text": [
      "100%|██████████| 168/168 [00:02<00:00, 56.30it/s]\n",
      "  0%|          | 0/42 [00:00<?, ?it/s]"
     ]
    },
    {
     "name": "stdout",
     "output_type": "stream",
     "text": [
      "batches for train: 168\n",
      "train loss: 48.97752575647263\n"
     ]
    },
    {
     "name": "stderr",
     "output_type": "stream",
     "text": [
      "100%|██████████| 42/42 [00:14<00:00,  2.87it/s]\n",
      "  3%|▎         | 5/168 [00:00<00:03, 48.29it/s]"
     ]
    },
    {
     "name": "stdout",
     "output_type": "stream",
     "text": [
      "test total acc, ele acc, pu acc: 0.2737259486794867 0.8977665932683234 0.26259037226637927\n",
      "epoch: 56\n"
     ]
    },
    {
     "name": "stderr",
     "output_type": "stream",
     "text": [
      "100%|██████████| 168/168 [00:02<00:00, 56.58it/s]\n",
      "  0%|          | 0/42 [00:00<?, ?it/s]"
     ]
    },
    {
     "name": "stdout",
     "output_type": "stream",
     "text": [
      "batches for train: 168\n",
      "train loss: 48.91547273454212\n"
     ]
    },
    {
     "name": "stderr",
     "output_type": "stream",
     "text": [
      "100%|██████████| 42/42 [00:15<00:00,  2.72it/s]\n",
      "  3%|▎         | 5/168 [00:00<00:03, 48.83it/s]"
     ]
    },
    {
     "name": "stdout",
     "output_type": "stream",
     "text": [
      "test total acc, ele acc, pu acc: 0.2737259486794867 0.8977665932683234 0.26259037226637927\n",
      "epoch: 57\n"
     ]
    },
    {
     "name": "stderr",
     "output_type": "stream",
     "text": [
      "100%|██████████| 168/168 [00:02<00:00, 58.09it/s]\n",
      "  0%|          | 0/42 [00:00<?, ?it/s]"
     ]
    },
    {
     "name": "stdout",
     "output_type": "stream",
     "text": [
      "batches for train: 168\n",
      "train loss: 48.88594665981474\n"
     ]
    },
    {
     "name": "stderr",
     "output_type": "stream",
     "text": [
      "100%|██████████| 42/42 [00:14<00:00,  2.86it/s]\n",
      "  2%|▏         | 3/168 [00:00<00:06, 27.26it/s]"
     ]
    },
    {
     "name": "stdout",
     "output_type": "stream",
     "text": [
      "test total acc, ele acc, pu acc: 0.2737259486794867 0.8977665932683234 0.26259037226637927\n",
      "epoch: 58\n"
     ]
    },
    {
     "name": "stderr",
     "output_type": "stream",
     "text": [
      "100%|██████████| 168/168 [00:02<00:00, 62.09it/s]\n",
      "  0%|          | 0/42 [00:00<?, ?it/s]"
     ]
    },
    {
     "name": "stdout",
     "output_type": "stream",
     "text": [
      "batches for train: 168\n",
      "train loss: 49.00626178014846\n"
     ]
    },
    {
     "name": "stderr",
     "output_type": "stream",
     "text": [
      "100%|██████████| 42/42 [00:13<00:00,  3.02it/s]\n",
      "  4%|▎         | 6/168 [00:00<00:02, 54.10it/s]"
     ]
    },
    {
     "name": "stdout",
     "output_type": "stream",
     "text": [
      "test total acc, ele acc, pu acc: 0.2737259486794867 0.8977665932683234 0.26259037226637927\n",
      "epoch: 59\n"
     ]
    },
    {
     "name": "stderr",
     "output_type": "stream",
     "text": [
      "100%|██████████| 168/168 [00:02<00:00, 65.11it/s]\n",
      "  0%|          | 0/42 [00:00<?, ?it/s]"
     ]
    },
    {
     "name": "stdout",
     "output_type": "stream",
     "text": [
      "batches for train: 168\n",
      "train loss: 49.00103228432791\n"
     ]
    },
    {
     "name": "stderr",
     "output_type": "stream",
     "text": [
      "100%|██████████| 42/42 [00:14<00:00,  2.95it/s]\n",
      "  3%|▎         | 5/168 [00:00<00:03, 48.94it/s]"
     ]
    },
    {
     "name": "stdout",
     "output_type": "stream",
     "text": [
      "test total acc, ele acc, pu acc: 0.2737259486794867 0.8977665932683234 0.26259037226637927\n",
      "epoch: 60\n"
     ]
    },
    {
     "name": "stderr",
     "output_type": "stream",
     "text": [
      "100%|██████████| 168/168 [00:02<00:00, 56.28it/s]\n",
      "  0%|          | 0/42 [00:00<?, ?it/s]"
     ]
    },
    {
     "name": "stdout",
     "output_type": "stream",
     "text": [
      "batches for train: 168\n",
      "train loss: 48.961366585322786\n"
     ]
    },
    {
     "name": "stderr",
     "output_type": "stream",
     "text": [
      "100%|██████████| 42/42 [00:14<00:00,  2.87it/s]\n"
     ]
    },
    {
     "name": "stdout",
     "output_type": "stream",
     "text": [
      "test total acc, ele acc, pu acc: 0.2737149191257976 0.8977665932683234 0.26257914589788495\n"
     ]
    },
    {
     "data": {
      "image/png": "[encoded data removed]",
      "text/plain": [
       "<Figure size 432x288 with 1 Axes>"
      ]
     },
     "metadata": {
      "needs_background": "light"
     },
     "output_type": "display_data"
    },
    {
     "data": {
      "image/png": "[encoded data removed]",
      "text/plain": [
       "<Figure size 432x288 with 1 Axes>"
      ]
     },
     "metadata": {
      "needs_background": "light"
     },
     "output_type": "display_data"
    },
    {
     "name": "stderr",
     "output_type": "stream",
     "text": [
      "No handles with labels found to put in legend.\n"
     ]
    },
    {
     "data": {
      "image/png": "[encoded data removed]",
      "text/plain": [
       "<Figure size 1440x864 with 2 Axes>"
      ]
     },
     "metadata": {
      "needs_background": "light"
     },
     "output_type": "display_data"
    },
    {
     "name": "stderr",
     "output_type": "stream",
     "text": [
      "  3%|▎         | 5/168 [00:00<00:03, 47.02it/s]"
     ]
    },
    {
     "name": "stdout",
     "output_type": "stream",
     "text": [
      "epoch: 61\n"
     ]
    },
    {
     "name": "stderr",
     "output_type": "stream",
     "text": [
      "100%|██████████| 168/168 [00:03<00:00, 55.09it/s]\n",
      "  0%|          | 0/42 [00:00<?, ?it/s]"
     ]
    },
    {
     "name": "stdout",
     "output_type": "stream",
     "text": [
      "batches for train: 168\n",
      "train loss: 48.914836770012265\n"
     ]
    },
    {
     "name": "stderr",
     "output_type": "stream",
     "text": [
      "100%|██████████| 42/42 [00:14<00:00,  2.90it/s]\n",
      "  2%|▏         | 3/168 [00:00<00:06, 26.89it/s]"
     ]
    },
    {
     "name": "stdout",
     "output_type": "stream",
     "text": [
      "test total acc, ele acc, pu acc: 0.273709404348953 0.8977665932683234 0.2625735327136378\n",
      "epoch: 62\n"
     ]
    },
    {
     "name": "stderr",
     "output_type": "stream",
     "text": [
      "100%|██████████| 168/168 [00:02<00:00, 60.35it/s]\n",
      "  0%|          | 0/42 [00:00<?, ?it/s]"
     ]
    },
    {
     "name": "stdout",
     "output_type": "stream",
     "text": [
      "batches for train: 168\n",
      "train loss: 48.91675899142311\n"
     ]
    },
    {
     "name": "stderr",
     "output_type": "stream",
     "text": [
      "100%|██████████| 42/42 [00:14<00:00,  2.89it/s]\n",
      "  2%|▏         | 3/168 [00:00<00:05, 29.00it/s]"
     ]
    },
    {
     "name": "stdout",
     "output_type": "stream",
     "text": [
      "test total acc, ele acc, pu acc: 0.273709404348953 0.8977665932683234 0.2625735327136378\n",
      "epoch: 63\n"
     ]
    },
    {
     "name": "stderr",
     "output_type": "stream",
     "text": [
      "100%|██████████| 168/168 [00:02<00:00, 59.05it/s]\n",
      "  0%|          | 0/42 [00:00<?, ?it/s]"
     ]
    },
    {
     "name": "stdout",
     "output_type": "stream",
     "text": [
      "batches for train: 168\n",
      "train loss: 48.948563734690346\n"
     ]
    },
    {
     "name": "stderr",
     "output_type": "stream",
     "text": [
      "100%|██████████| 42/42 [00:15<00:00,  2.75it/s]\n",
      "  2%|▏         | 3/168 [00:00<00:06, 26.77it/s]"
     ]
    },
    {
     "name": "stdout",
     "output_type": "stream",
     "text": [
      "test total acc, ele acc, pu acc: 0.273709404348953 0.8977665932683234 0.2625735327136378\n",
      "epoch: 64\n"
     ]
    },
    {
     "name": "stderr",
     "output_type": "stream",
     "text": [
      "100%|██████████| 168/168 [00:02<00:00, 58.17it/s]\n",
      "  0%|          | 0/42 [00:00<?, ?it/s]"
     ]
    },
    {
     "name": "stdout",
     "output_type": "stream",
     "text": [
      "batches for train: 168\n",
      "train loss: 48.925589447929745\n"
     ]
    },
    {
     "name": "stderr",
     "output_type": "stream",
     "text": [
      "100%|██████████| 42/42 [00:14<00:00,  2.94it/s]\n",
      "  4%|▎         | 6/168 [00:00<00:02, 54.36it/s]"
     ]
    },
    {
     "name": "stdout",
     "output_type": "stream",
     "text": [
      "test total acc, ele acc, pu acc: 0.27370388957210845 0.8977665932683234 0.2625679195293906\n",
      "epoch: 65\n"
     ]
    },
    {
     "name": "stderr",
     "output_type": "stream",
     "text": [
      "100%|██████████| 168/168 [00:02<00:00, 67.10it/s]\n",
      "  0%|          | 0/42 [00:00<?, ?it/s]"
     ]
    },
    {
     "name": "stdout",
     "output_type": "stream",
     "text": [
      "batches for train: 168\n",
      "train loss: 48.9226963860648\n"
     ]
    },
    {
     "name": "stderr",
     "output_type": "stream",
     "text": [
      "100%|██████████| 42/42 [00:14<00:00,  2.93it/s]\n",
      "  2%|▏         | 3/168 [00:00<00:05, 27.65it/s]"
     ]
    },
    {
     "name": "stdout",
     "output_type": "stream",
     "text": [
      "test total acc, ele acc, pu acc: 0.27370388957210845 0.8977665932683234 0.2625679195293906\n",
      "epoch: 66\n"
     ]
    },
    {
     "name": "stderr",
     "output_type": "stream",
     "text": [
      "100%|██████████| 168/168 [00:02<00:00, 63.30it/s]\n",
      "  0%|          | 0/42 [00:00<?, ?it/s]"
     ]
    },
    {
     "name": "stdout",
     "output_type": "stream",
     "text": [
      "batches for train: 168\n",
      "train loss: 48.933383328574045\n"
     ]
    },
    {
     "name": "stderr",
     "output_type": "stream",
     "text": [
      "100%|██████████| 42/42 [00:14<00:00,  2.93it/s]\n",
      "  4%|▎         | 6/168 [00:00<00:03, 53.96it/s]"
     ]
    },
    {
     "name": "stdout",
     "output_type": "stream",
     "text": [
      "test total acc, ele acc, pu acc: 0.273709404348953 0.8977665932683234 0.2625735327136378\n",
      "epoch: 67\n"
     ]
    },
    {
     "name": "stderr",
     "output_type": "stream",
     "text": [
      "100%|██████████| 168/168 [00:02<00:00, 65.22it/s]\n",
      "  0%|          | 0/42 [00:00<?, ?it/s]"
     ]
    },
    {
     "name": "stdout",
     "output_type": "stream",
     "text": [
      "batches for train: 168\n",
      "train loss: 48.988303320748464\n"
     ]
    },
    {
     "name": "stderr",
     "output_type": "stream",
     "text": [
      "100%|██████████| 42/42 [00:14<00:00,  2.98it/s]\n",
      "  0%|          | 0/168 [00:00<?, ?it/s]"
     ]
    },
    {
     "name": "stdout",
     "output_type": "stream",
     "text": [
      "test total acc, ele acc, pu acc: 0.27370388957210845 0.8977665932683234 0.2625679195293906\n",
      "epoch: 68\n"
     ]
    },
    {
     "name": "stderr",
     "output_type": "stream",
     "text": [
      "100%|██████████| 168/168 [00:02<00:00, 59.99it/s]\n",
      "  0%|          | 0/42 [00:00<?, ?it/s]"
     ]
    },
    {
     "name": "stdout",
     "output_type": "stream",
     "text": [
      "batches for train: 168\n",
      "train loss: 48.971768061319985\n"
     ]
    },
    {
     "name": "stderr",
     "output_type": "stream",
     "text": [
      "100%|██████████| 42/42 [00:14<00:00,  2.91it/s]\n",
      "  4%|▎         | 6/168 [00:00<00:03, 53.60it/s]"
     ]
    },
    {
     "name": "stdout",
     "output_type": "stream",
     "text": [
      "test total acc, ele acc, pu acc: 0.27370388957210845 0.8977665932683234 0.2625679195293906\n",
      "epoch: 69\n"
     ]
    },
    {
     "name": "stderr",
     "output_type": "stream",
     "text": [
      "100%|██████████| 168/168 [00:02<00:00, 61.34it/s]\n",
      "  0%|          | 0/42 [00:00<?, ?it/s]"
     ]
    },
    {
     "name": "stdout",
     "output_type": "stream",
     "text": [
      "batches for train: 168\n",
      "train loss: 48.970881621042885\n"
     ]
    },
    {
     "name": "stderr",
     "output_type": "stream",
     "text": [
      "100%|██████████| 42/42 [00:14<00:00,  2.90it/s]\n",
      "  4%|▎         | 6/168 [00:00<00:03, 52.64it/s]"
     ]
    },
    {
     "name": "stdout",
     "output_type": "stream",
     "text": [
      "test total acc, ele acc, pu acc: 0.27370388957210845 0.8977665932683234 0.2625679195293906\n",
      "epoch: 70\n"
     ]
    },
    {
     "name": "stderr",
     "output_type": "stream",
     "text": [
      "100%|██████████| 168/168 [00:02<00:00, 61.17it/s]\n",
      "  0%|          | 0/42 [00:00<?, ?it/s]"
     ]
    },
    {
     "name": "stdout",
     "output_type": "stream",
     "text": [
      "batches for train: 168\n",
      "train loss: 49.02948772339594\n"
     ]
    },
    {
     "name": "stderr",
     "output_type": "stream",
     "text": [
      "100%|██████████| 42/42 [00:14<00:00,  2.89it/s]\n"
     ]
    },
    {
     "name": "stdout",
     "output_type": "stream",
     "text": [
      "test total acc, ele acc, pu acc: 0.27370388957210845 0.8977665932683234 0.2625679195293906\n"
     ]
    },
    {
     "data": {
      "image/png": "[encoded data removed]",
      "text/plain": [
       "<Figure size 432x288 with 1 Axes>"
      ]
     },
     "metadata": {
      "needs_background": "light"
     },
     "output_type": "display_data"
    },
    {
     "data": {
      "image/png": "[encoded data removed]",
      "text/plain": [
       "<Figure size 432x288 with 1 Axes>"
      ]
     },
     "metadata": {
      "needs_background": "light"
     },
     "output_type": "display_data"
    },
    {
     "name": "stderr",
     "output_type": "stream",
     "text": [
      "No handles with labels found to put in legend.\n"
     ]
    },
    {
     "data": {
      "image/png": "[encoded data removed]",
      "text/plain": [
       "<Figure size 1440x864 with 2 Axes>"
      ]
     },
     "metadata": {
      "needs_background": "light"
     },
     "output_type": "display_data"
    },
    {
     "name": "stderr",
     "output_type": "stream",
     "text": [
      "  3%|▎         | 5/168 [00:00<00:03, 48.94it/s]"
     ]
    },
    {
     "name": "stdout",
     "output_type": "stream",
     "text": [
      "epoch: 71\n"
     ]
    },
    {
     "name": "stderr",
     "output_type": "stream",
     "text": [
      "100%|██████████| 168/168 [00:02<00:00, 56.45it/s]\n",
      "  0%|          | 0/42 [00:00<?, ?it/s]"
     ]
    },
    {
     "name": "stdout",
     "output_type": "stream",
     "text": [
      "batches for train: 168\n",
      "train loss: 48.998525256202335\n"
     ]
    },
    {
     "name": "stderr",
     "output_type": "stream",
     "text": [
      "100%|██████████| 42/42 [00:14<00:00,  2.87it/s]\n",
      "  2%|▏         | 3/168 [00:00<00:05, 28.08it/s]"
     ]
    },
    {
     "name": "stdout",
     "output_type": "stream",
     "text": [
      "test total acc, ele acc, pu acc: 0.27370388957210845 0.8977665932683234 0.2625679195293906\n",
      "epoch: 72\n"
     ]
    },
    {
     "name": "stderr",
     "output_type": "stream",
     "text": [
      "100%|██████████| 168/168 [00:02<00:00, 59.84it/s]\n",
      "  0%|          | 0/42 [00:00<?, ?it/s]"
     ]
    },
    {
     "name": "stdout",
     "output_type": "stream",
     "text": [
      "batches for train: 168\n",
      "train loss: 49.04045992805844\n"
     ]
    },
    {
     "name": "stderr",
     "output_type": "stream",
     "text": [
      "100%|██████████| 42/42 [00:14<00:00,  2.91it/s]\n",
      "  2%|▏         | 3/168 [00:00<00:05, 28.77it/s]"
     ]
    },
    {
     "name": "stdout",
     "output_type": "stream",
     "text": [
      "test total acc, ele acc, pu acc: 0.27369837479526393 0.8977665932683234 0.2625623063451435\n",
      "epoch: 73\n"
     ]
    },
    {
     "name": "stderr",
     "output_type": "stream",
     "text": [
      "100%|██████████| 168/168 [00:02<00:00, 60.34it/s]\n",
      "  0%|          | 0/42 [00:00<?, ?it/s]"
     ]
    },
    {
     "name": "stdout",
     "output_type": "stream",
     "text": [
      "batches for train: 168\n",
      "train loss: 48.93848787035261\n"
     ]
    },
    {
     "name": "stderr",
     "output_type": "stream",
     "text": [
      "100%|██████████| 42/42 [00:14<00:00,  3.00it/s]\n",
      "  4%|▎         | 6/168 [00:00<00:02, 56.46it/s]"
     ]
    },
    {
     "name": "stdout",
     "output_type": "stream",
     "text": [
      "test total acc, ele acc, pu acc: 0.27369837479526393 0.8977665932683234 0.2625623063451435\n",
      "epoch: 74\n"
     ]
    },
    {
     "name": "stderr",
     "output_type": "stream",
     "text": [
      "100%|██████████| 168/168 [00:02<00:00, 64.84it/s]\n",
      "  0%|          | 0/42 [00:00<?, ?it/s]"
     ]
    },
    {
     "name": "stdout",
     "output_type": "stream",
     "text": [
      "batches for train: 168\n",
      "train loss: 48.915236949920654\n"
     ]
    },
    {
     "name": "stderr",
     "output_type": "stream",
     "text": [
      "100%|██████████| 42/42 [00:14<00:00,  3.00it/s]\n",
      "  2%|▏         | 4/168 [00:00<00:04, 33.46it/s]"
     ]
    },
    {
     "name": "stdout",
     "output_type": "stream",
     "text": [
      "test total acc, ele acc, pu acc: 0.2736873452415748 0.8977665932683234 0.26255107997664917\n",
      "epoch: 75\n"
     ]
    },
    {
     "name": "stderr",
     "output_type": "stream",
     "text": [
      "100%|██████████| 168/168 [00:02<00:00, 63.61it/s]\n",
      "  0%|          | 0/42 [00:00<?, ?it/s]"
     ]
    },
    {
     "name": "stdout",
     "output_type": "stream",
     "text": [
      "batches for train: 168\n",
      "train loss: 48.93622993287586\n"
     ]
    },
    {
     "name": "stderr",
     "output_type": "stream",
     "text": [
      "100%|██████████| 42/42 [00:13<00:00,  3.04it/s]\n",
      "  4%|▎         | 6/168 [00:00<00:03, 53.44it/s]"
     ]
    },
    {
     "name": "stdout",
     "output_type": "stream",
     "text": [
      "test total acc, ele acc, pu acc: 0.2736873452415748 0.8977665932683234 0.26255107997664917\n",
      "epoch: 76\n"
     ]
    },
    {
     "name": "stderr",
     "output_type": "stream",
     "text": [
      "100%|██████████| 168/168 [00:02<00:00, 61.17it/s]\n",
      "  0%|          | 0/42 [00:00<?, ?it/s]"
     ]
    },
    {
     "name": "stdout",
     "output_type": "stream",
     "text": [
      "batches for train: 168\n",
      "train loss: 49.03655324663435\n"
     ]
    },
    {
     "name": "stderr",
     "output_type": "stream",
     "text": [
      "100%|██████████| 42/42 [00:14<00:00,  2.90it/s]\n",
      "  3%|▎         | 5/168 [00:00<00:03, 49.08it/s]"
     ]
    },
    {
     "name": "stdout",
     "output_type": "stream",
     "text": [
      "test total acc, ele acc, pu acc: 0.27368183046473027 0.8977665932683234 0.262545466792402\n",
      "epoch: 77\n"
     ]
    },
    {
     "name": "stderr",
     "output_type": "stream",
     "text": [
      "100%|██████████| 168/168 [00:02<00:00, 56.13it/s]\n",
      "  0%|          | 0/42 [00:00<?, ?it/s]"
     ]
    },
    {
     "name": "stdout",
     "output_type": "stream",
     "text": [
      "batches for train: 168\n",
      "train loss: 48.91966129484631\n"
     ]
    },
    {
     "name": "stderr",
     "output_type": "stream",
     "text": [
      "100%|██████████| 42/42 [00:14<00:00,  2.84it/s]\n",
      "  3%|▎         | 5/168 [00:00<00:03, 48.47it/s]"
     ]
    },
    {
     "name": "stdout",
     "output_type": "stream",
     "text": [
      "test total acc, ele acc, pu acc: 0.2736763156878857 0.8977665932683234 0.26253985360815485\n",
      "epoch: 78\n"
     ]
    },
    {
     "name": "stderr",
     "output_type": "stream",
     "text": [
      "100%|██████████| 168/168 [00:02<00:00, 56.32it/s]\n",
      "  0%|          | 0/42 [00:00<?, ?it/s]"
     ]
    },
    {
     "name": "stdout",
     "output_type": "stream",
     "text": [
      "batches for train: 168\n",
      "train loss: 48.84353651319231\n"
     ]
    },
    {
     "name": "stderr",
     "output_type": "stream",
     "text": [
      "100%|██████████| 42/42 [00:14<00:00,  2.90it/s]\n",
      "  2%|▏         | 3/168 [00:00<00:06, 26.73it/s]"
     ]
    },
    {
     "name": "stdout",
     "output_type": "stream",
     "text": [
      "test total acc, ele acc, pu acc: 0.2736708009110411 0.8977665932683234 0.26253424042390766\n",
      "epoch: 79\n"
     ]
    },
    {
     "name": "stderr",
     "output_type": "stream",
     "text": [
      "100%|██████████| 168/168 [00:03<00:00, 55.22it/s]\n",
      "  0%|          | 0/42 [00:00<?, ?it/s]"
     ]
    },
    {
     "name": "stdout",
     "output_type": "stream",
     "text": [
      "batches for train: 168\n",
      "train loss: 49.03577952157883\n"
     ]
    },
    {
     "name": "stderr",
     "output_type": "stream",
     "text": [
      "100%|██████████| 42/42 [00:14<00:00,  2.90it/s]\n",
      "  3%|▎         | 5/168 [00:00<00:03, 48.98it/s]"
     ]
    },
    {
     "name": "stdout",
     "output_type": "stream",
     "text": [
      "test total acc, ele acc, pu acc: 0.2736652861341966 0.8977665932683234 0.26252862723966053\n",
      "epoch: 80\n"
     ]
    },
    {
     "name": "stderr",
     "output_type": "stream",
     "text": [
      "100%|██████████| 168/168 [00:02<00:00, 56.76it/s]\n",
      "  0%|          | 0/42 [00:00<?, ?it/s]"
     ]
    },
    {
     "name": "stdout",
     "output_type": "stream",
     "text": [
      "batches for train: 168\n",
      "train loss: 48.92149230412075\n"
     ]
    },
    {
     "name": "stderr",
     "output_type": "stream",
     "text": [
      "100%|██████████| 42/42 [00:14<00:00,  2.92it/s]\n"
     ]
    },
    {
     "name": "stdout",
     "output_type": "stream",
     "text": [
      "test total acc, ele acc, pu acc: 0.2736652861341966 0.8977665932683234 0.26252862723966053\n"
     ]
    },
    {
     "data": {
      "image/png": "[encoded data removed]",
      "text/plain": [
       "<Figure size 432x288 with 1 Axes>"
      ]
     },
     "metadata": {
      "needs_background": "light"
     },
     "output_type": "display_data"
    },
    {
     "data": {
      "image/png": "[encoded data removed]",
      "text/plain": [
       "<Figure size 432x288 with 1 Axes>"
      ]
     },
     "metadata": {
      "needs_background": "light"
     },
     "output_type": "display_data"
    },
    {
     "name": "stderr",
     "output_type": "stream",
     "text": [
      "No handles with labels found to put in legend.\n"
     ]
    },
    {
     "data": {
      "image/png": "[encoded data removed]",
      "text/plain": [
       "<Figure size 1440x864 with 2 Axes>"
      ]
     },
     "metadata": {
      "needs_background": "light"
     },
     "output_type": "display_data"
    },
    {
     "name": "stderr",
     "output_type": "stream",
     "text": [
      "  4%|▎         | 6/168 [00:00<00:03, 53.94it/s]"
     ]
    },
    {
     "name": "stdout",
     "output_type": "stream",
     "text": [
      "epoch: 81\n"
     ]
    },
    {
     "name": "stderr",
     "output_type": "stream",
     "text": [
      "100%|██████████| 168/168 [00:02<00:00, 64.00it/s]\n",
      "  0%|          | 0/42 [00:00<?, ?it/s]"
     ]
    },
    {
     "name": "stdout",
     "output_type": "stream",
     "text": [
      "batches for train: 168\n",
      "train loss: 48.86668466386341\n"
     ]
    },
    {
     "name": "stderr",
     "output_type": "stream",
     "text": [
      "100%|██████████| 42/42 [00:13<00:00,  3.01it/s]\n",
      "  2%|▏         | 3/168 [00:00<00:05, 28.56it/s]"
     ]
    },
    {
     "name": "stdout",
     "output_type": "stream",
     "text": [
      "test total acc, ele acc, pu acc: 0.2736652861341966 0.8977665932683234 0.26252862723966053\n",
      "epoch: 82\n"
     ]
    },
    {
     "name": "stderr",
     "output_type": "stream",
     "text": [
      "100%|██████████| 168/168 [00:02<00:00, 63.08it/s]\n",
      "  0%|          | 0/42 [00:00<?, ?it/s]"
     ]
    },
    {
     "name": "stdout",
     "output_type": "stream",
     "text": [
      "batches for train: 168\n",
      "train loss: 48.99957833971296\n"
     ]
    },
    {
     "name": "stderr",
     "output_type": "stream",
     "text": [
      "100%|██████████| 42/42 [00:13<00:00,  3.03it/s]\n",
      "  4%|▎         | 6/168 [00:00<00:02, 58.77it/s]"
     ]
    },
    {
     "name": "stdout",
     "output_type": "stream",
     "text": [
      "test total acc, ele acc, pu acc: 0.27365977135735203 0.8977665932683234 0.26252301405541334\n",
      "epoch: 83\n"
     ]
    },
    {
     "name": "stderr",
     "output_type": "stream",
     "text": [
      "100%|██████████| 168/168 [00:02<00:00, 70.67it/s]\n",
      "  0%|          | 0/42 [00:00<?, ?it/s]"
     ]
    },
    {
     "name": "stdout",
     "output_type": "stream",
     "text": [
      "batches for train: 168\n",
      "train loss: 48.96687453133719\n"
     ]
    },
    {
     "name": "stderr",
     "output_type": "stream",
     "text": [
      "100%|██████████| 42/42 [00:14<00:00,  2.90it/s]\n",
      "  3%|▎         | 5/168 [00:00<00:03, 48.53it/s]"
     ]
    },
    {
     "name": "stdout",
     "output_type": "stream",
     "text": [
      "test total acc, ele acc, pu acc: 0.27365977135735203 0.8977665932683234 0.26252301405541334\n",
      "epoch: 84\n"
     ]
    },
    {
     "name": "stderr",
     "output_type": "stream",
     "text": [
      "100%|██████████| 168/168 [00:02<00:00, 56.10it/s]\n",
      "  0%|          | 0/42 [00:00<?, ?it/s]"
     ]
    },
    {
     "name": "stdout",
     "output_type": "stream",
     "text": [
      "batches for train: 168\n",
      "train loss: 48.86478165217808\n"
     ]
    },
    {
     "name": "stderr",
     "output_type": "stream",
     "text": [
      "100%|██████████| 42/42 [00:14<00:00,  2.89it/s]\n",
      "  3%|▎         | 5/168 [00:00<00:03, 48.40it/s]"
     ]
    },
    {
     "name": "stdout",
     "output_type": "stream",
     "text": [
      "test total acc, ele acc, pu acc: 0.27365425658050746 0.8977665932683234 0.2625174008711662\n",
      "epoch: 85\n"
     ]
    },
    {
     "name": "stderr",
     "output_type": "stream",
     "text": [
      "100%|██████████| 168/168 [00:02<00:00, 56.29it/s]\n",
      "  0%|          | 0/42 [00:00<?, ?it/s]"
     ]
    },
    {
     "name": "stdout",
     "output_type": "stream",
     "text": [
      "batches for train: 168\n",
      "train loss: 48.9956636428833\n"
     ]
    },
    {
     "name": "stderr",
     "output_type": "stream",
     "text": [
      " 40%|████      | 17/42 [00:05<00:08,  3.02it/s]"
     ]
    }
   ],
   "source": [
    "from matplotlib.pyplot import figure\n",
    "\n",
    "figure(figsize=(8, 6), dpi=80)\n",
    "\n",
    "\n",
    "from tqdm import tqdm as tqdm\n",
    "checkpoint_dir = '/home/llr/cms/sghosh/hackathonTICL/model_edgenetwork/'\n",
    "\n",
    "os.makedirs(checkpoint_dir, exist_ok=True)\n",
    "best_loss = 99999999\n",
    "losst = []\n",
    "lossv = []\n",
    "epochs = []\n",
    "acc = []\n",
    "elc= []\n",
    "puc = []\n",
    "\n",
    "\n",
    "for epoch in range(1, 201):\n",
    "    print ('epoch:',epoch)\n",
    "    losst.append(train(epoch))\n",
    "    loss_epoch,accuracy, eleacc, puacc = evaluate(epoch)\n",
    "    lossv.append(loss_epoch)\n",
    "    acc.append(accuracy)\n",
    "    elc.append(eleacc)\n",
    "    puc.append(puacc)\n",
    "    epochs.append(epoch)\n",
    "    print(\"test total acc, ele acc, pu acc:\",accuracy,eleacc,puacc)\n",
    "    checkpoint = {\n",
    "    'epoch': epoch + 1,\n",
    "    'state_dict': model.state_dict(),\n",
    "    'optimizer': optimizer.state_dict()\n",
    "    }\n",
    "    \n",
    "    \n",
    "    \n",
    "    checkpoint_file = 'model_epoch_%i.pth.tar' % ( epoch )\n",
    "    torch.save(checkpoint,\n",
    "                   os.path.join(checkpoint_dir,checkpoint_file ))\n",
    "    if loss_epoch < best_loss:\n",
    "        best_loss = loss_epoch\n",
    "        print('new best test loss:',best_loss)\n",
    "        torch.save(checkpoint,\n",
    "                   os.path.join(checkpoint_dir,'model_checkpoint_best.pth.tar' ))\n",
    "    if (epoch%10 == 0):\n",
    "        plt.plot(np.array(epochs),np.array(losst),c='b',label='training')\n",
    "        plt.plot(np.array(epochs),np.array(lossv),c='r',label='testing')\n",
    "        plt.xlabel(\"epoch\")\n",
    "        plt.ylabel(\"loss\")\n",
    "        plt.legend()\n",
    "        plt.savefig(checkpoint_dir+'loss_{0}.png'.format(epoch))\n",
    "        plt.show()\n",
    "        plt.plot(np.array(epochs),np.array(acc),c='b')\n",
    "        plt.xlabel(\"epoch\")\n",
    "        plt.ylabel(\"accuracy\")\n",
    "        plt.savefig(checkpoint_dir+'acc_class_{0}.png'.format(epoch))\n",
    "        plt.show()\n",
    "        fig, (ax0,ax1) = plt.subplots(1, 2, figsize=(20,12))\n",
    "        ax0.plot(np.array(epochs),np.array(elc))#,label=str(etabinsG[i])+\"_to_\"+str(etabinsG[i+1]))\n",
    "        ax1.set_xlabel(\"epoch\")\n",
    "        ax1.set_ylabel(\"accuracy ele\")\n",
    "        ax1.plot(np.array(epochs),np.array(puc))#,label=str(etabinsG[i])+\"_to_\"+str(etabinsG[i+1]))\n",
    "        ax1.set_xlabel(\"epoch\")\n",
    "        ax1.set_ylabel(\"accuracy pu\")\n",
    "        plt.legend()\n",
    "        plt.savefig(checkpoint_dir+'acc_class_feta_{0}.png'.format(epoch))\n",
    "        plt.show()   \n",
    "            \n",
    "        \n",
    "        \n"
   ]
  },
  {
   "cell_type": "code",
   "execution_count": null,
   "metadata": {},
   "outputs": [],
   "source": []
  },
  {
   "cell_type": "code",
   "execution_count": null,
   "metadata": {},
   "outputs": [],
   "source": []
  }
 ],
 "metadata": {
  "kernelspec": {
   "display_name": "torchtestgpu",
   "language": "python",
   "name": "torchtestgpu"
  },
  "language_info": {
   "codemirror_mode": {
    "name": "ipython",
    "version": 3
   },
   "file_extension": ".py",
   "mimetype": "text/x-python",
   "name": "python",
   "nbconvert_exporter": "python",
   "pygments_lexer": "ipython3",
   "version": "3.6.13"
  }
 },
 "nbformat": 4,
 "nbformat_minor": 4
}
